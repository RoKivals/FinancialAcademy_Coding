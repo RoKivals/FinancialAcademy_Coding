{
 "cells": [
  {
   "cell_type": "markdown",
   "metadata": {},
   "source": [
    "# Numpy"
   ]
  },
  {
   "cell_type": "markdown",
   "metadata": {},
   "source": [
    "Материалы:\n",
    "* https://numpy.org/doc/stable/user/index.html\n",
    "* https://numpy.org/doc/stable/reference/index.html"
   ]
  },
  {
   "cell_type": "markdown",
   "metadata": {},
   "source": [
    "## Задачи для совместного разбора"
   ]
  },
  {
   "cell_type": "markdown",
   "metadata": {},
   "source": [
    "1. Сгенерировать двухмерный массив `arr` размерности (4, 7), состоящий из случайных действительных чисел, равномерно распределенных в диапазоне от 0 до 20. Нормализовать значения массива с помощью преобразования вида  $𝑎𝑥+𝑏$  так, что после нормализации максимальный элемент масcива будет равен 1.0, минимальный 0.0"
   ]
  },
  {
   "cell_type": "code",
   "execution_count": null,
   "metadata": {},
   "outputs": [],
   "source": [
    "import numpy as np"
   ]
  },
  {
   "cell_type": "code",
   "execution_count": null,
   "metadata": {},
   "outputs": [],
   "source": [
    "np.random.randint(0, 20, size=(4, 7))"
   ]
  },
  {
   "cell_type": "markdown",
   "metadata": {},
   "source": [
    "2. Создать матрицу 8 на 10 из случайных целых (используя модуль `numpy.random`) чисел из диапозона от 0 до 10 и найти в ней строку (ее индекс и вывести саму строку), в которой сумма значений минимальна."
   ]
  },
  {
   "cell_type": "code",
   "execution_count": null,
   "metadata": {},
   "outputs": [],
   "source": [
    "np.random.randint(0, 10, size=(8, 10))"
   ]
  },
  {
   "cell_type": "markdown",
   "metadata": {},
   "source": [
    "3. Найти евклидово расстояние между двумя одномерными векторами одинаковой размерности."
   ]
  },
  {
   "cell_type": "code",
   "execution_count": null,
   "metadata": {},
   "outputs": [],
   "source": [
    "import matplotlib.pyplot as pl\n",
    "from mpl_toolkits.mplot3d import Axes3D"
   ]
  },
  {
   "cell_type": "code",
   "execution_count": null,
   "metadata": {},
   "outputs": [],
   "source": []
  },
  {
   "cell_type": "markdown",
   "metadata": {},
   "source": [
    "4. Решить матричное уравнение `A*X*B=-C` - найти матрицу `X`. Где `A = [[-1, 2, 4], [-3, 1, 2], [-3, 0, 1]]`, `B=[[3, -1], [2, 1]]`, `C=[[7, 21], [11, 8], [8, 4]]`."
   ]
  },
  {
   "cell_type": "markdown",
   "metadata": {},
   "source": [
    "## Лабораторная работа №1"
   ]
  },
  {
   "cell_type": "markdown",
   "metadata": {},
   "source": [
    "Замечание: при решении данных задач не подразумевается использования циклов или генераторов Python, если в задании не сказано обратного. Решение должно опираться на использования функционала библиотеки `numpy`."
   ]
  },
  {
   "cell_type": "markdown",
   "metadata": {},
   "source": [
    "1. Файл `minutes_n_ingredients.csv` содержит информацию об идентификаторе рецепта, времени его выполнения в минутах и количестве необходимых ингредиентов. Считайте данные из этого файла в виде массива `numpy` типа `int32`, используя `np.loadtxt`. Выведите на экран первые 5 строк массива."
   ]
  },
  {
   "cell_type": "code",
   "execution_count": null,
   "metadata": {},
   "outputs": [],
   "source": [
    "recipes = np.loadtxt(\"../v1/data/minutes_n_ingredients.csv\", dtype=np.int32, skiprows=1, delimiter=',')\n",
    "\n",
    "print(\"ID\".center(13), \"Minutes\".center(13), \"Ingridients\")\n",
    "for i in recipes[:5]:\n",
    "    print(str(i[0]).center(13) + str(i[1]).center(13) + str(i[2]).center(13))"
   ]
  },
  {
   "cell_type": "markdown",
   "metadata": {},
   "source": [
    "2. Вычислите среднее значение, минимум, максимум и медиану по каждому из столбцов, кроме первого."
   ]
  },
  {
   "cell_type": "code",
   "execution_count": null,
   "metadata": {},
   "outputs": [],
   "source": [
    "for i in range(1, recipes.shape[1]):\n",
    "    print(f\"Значения {i + 1} столбца:\")\n",
    "    print(f\"Среднее значение - {np.mean(recipes[:, i])}\")\n",
    "    print(f\"Минимальное значение - {recipes[:, i].min()}\")\n",
    "    print(f\"Максимальное значение - {recipes[:, i].max()}\")\n",
    "    print(f\"Медиана - {np.median(recipes[:, i])}\")\n",
    "    print()"
   ]
  },
  {
   "cell_type": "markdown",
   "metadata": {},
   "source": [
    "3. Ограничьте сверху значения продолжительности выполнения рецепта значением квантиля $q_{0.75}$. "
   ]
  },
  {
   "cell_type": "code",
   "execution_count": null,
   "metadata": {},
   "outputs": [],
   "source": [
    "border = np.quantile(recipes[:, 1], 0.75, axis=0)\n",
    "\n",
    "recipes = recipes[recipes[:, 1] < border]\n",
    "# One more solution\n",
    "#recipes = np.delete(recipes, np.where(recipes[:,1] > border), axis=0)\n",
    "\n",
    "# P.S. Дальше работаем с уменьшенным массивом\n",
    "print(f\"Обновленный массив данных на {len(recipes)} записей\")\n",
    "print(\"ID\".center(13), \"Minutes\".center(13), \"Ingridients\")\n",
    "for i in recipes:\n",
    "    print(str(i[0]).center(13) + str(i[1]).center(13) + str(i[2]).center(13))"
   ]
  },
  {
   "cell_type": "markdown",
   "metadata": {},
   "source": [
    "4. Посчитайте, для скольких рецептов указана продолжительность, равная нулю. Замените для таких строк значение в данном столбце на 1."
   ]
  },
  {
   "cell_type": "code",
   "execution_count": null,
   "metadata": {},
   "outputs": [],
   "source": [
    "print(f\"Количество быстрых рецептов\\nДо: {np.count_nonzero(recipes == 0)}\")\n",
    "\n",
    "for i in range(len(recipes)):\n",
    "    if recipes[i, 1] == 0:\n",
    "        recipes[i, 1] = 1\n",
    "print(f\"После: {np.count_nonzero(recipes == 0)}\")"
   ]
  },
  {
   "cell_type": "markdown",
   "metadata": {},
   "source": [
    "5. Посчитайте, сколько уникальных рецептов находится в датасете."
   ]
  },
  {
   "cell_type": "code",
   "execution_count": null,
   "metadata": {},
   "outputs": [],
   "source": [
    "# КХМ... Смысл задания?\n",
    "print(f\"{len(np.unique(recipes, axis=0))} - кол-во уникальных рецептов из {len(recipes)}\")"
   ]
  },
  {
   "cell_type": "markdown",
   "metadata": {},
   "source": [
    "6. Сколько и каких различных значений кол-ва ингредиентов присутвует в рецептах из датасета?"
   ]
  },
  {
   "cell_type": "code",
   "execution_count": null,
   "metadata": {},
   "outputs": [],
   "source": [
    "value, cnts = np.unique(recipes[:, 2], return_counts=True)\n",
    "print(\"Ингредиенты\", \"Количество\".center(11))\n",
    "print(\"\\n\".join(f\"{i[0]:^11} {i[1]:^11}\" for i in dict(zip(value, cnts)).items()))"
   ]
  },
  {
   "cell_type": "markdown",
   "metadata": {},
   "source": [
    "7. Создайте версию массива, содержащую информацию только о рецептах, состоящих не более чем из 5 ингредиентов."
   ]
  },
  {
   "cell_type": "code",
   "execution_count": null,
   "metadata": {},
   "outputs": [],
   "source": [
    "small_recipes = recipes[recipes[:, 2] <= 5]\n",
    "\n",
    "print(\"ID\".center(13), \"Minutes\".center(13), \"Ingridients\")\n",
    "for i in small_recipes:\n",
    "    print(str(i[0]).center(13) + str(i[1]).center(13) + str(i[2]).center(13))"
   ]
  },
  {
   "cell_type": "markdown",
   "metadata": {},
   "source": [
    "8. Для каждого рецепта посчитайте, сколько в среднем ингредиентов приходится на одну минуту рецепта. Найдите максимальное значение этой величины для всего датасета"
   ]
  },
  {
   "cell_type": "code",
   "execution_count": null,
   "metadata": {
    "scrolled": true
   },
   "outputs": [],
   "source": [
    "for recipe in recipes: \n",
    "    print(f\"Для рецепта {recipe[0]} количество ингредиентов на минуту = {recipe[2] / recipe[1]:.3f}\")"
   ]
  },
  {
   "cell_type": "markdown",
   "metadata": {},
   "source": [
    "9. Вычислите среднее количество ингредиентов для топ-100 рецептов с наибольшей продолжительностью"
   ]
  },
  {
   "cell_type": "code",
   "execution_count": null,
   "metadata": {},
   "outputs": [],
   "source": [
    "print(\"Среднее кол-во ингредиентов в 100 самых долгих рецептах:\",\n",
    "      np.mean(recipes[np.argsort(recipes[:, 1])][:-101:-1], axis=0)[2])"
   ]
  },
  {
   "cell_type": "markdown",
   "metadata": {},
   "source": [
    "10. Выберите случайным образом и выведите информацию о 10 различных рецептах"
   ]
  },
  {
   "cell_type": "code",
   "execution_count": null,
   "metadata": {},
   "outputs": [],
   "source": [
    "random_recipes = recipes[np.random.choice(recipes.shape[0], 10)]\n",
    "\n",
    "print(\"ID\".center(13), \"Minutes\".center(13), \"Ingridients\")\n",
    "for i in random_recipes:\n",
    "    print(str(i[0]).center(13) + str(i[1]).center(13) + str(i[2]).center(13))"
   ]
  },
  {
   "cell_type": "markdown",
   "metadata": {},
   "source": [
    "11. Выведите процент рецептов, кол-во ингредиентов в которых меньше среднего."
   ]
  },
  {
   "cell_type": "code",
   "execution_count": null,
   "metadata": {},
   "outputs": [],
   "source": [
    "aver_ingredients = np.mean(recipes, axis=0, keepdims=True)[0, 2]\n",
    "\n",
    "cnt = 0\n",
    "for receip in recipes:\n",
    "    if receip[2] < aver_ingredients:\n",
    "        cnt += 1\n",
    "        \n",
    "print(f\"Искомый процент: {cnt / len(recipes):.1%}\")"
   ]
  },
  {
   "cell_type": "markdown",
   "metadata": {},
   "source": [
    "12. Назовем \"простым\" такой рецепт, длительность выполнения которого не больше 20 минут и кол-во ингредиентов в котором не больше 5. Создайте версию датасета с дополнительным столбцом, значениями которого являются 1, если рецепт простой, и 0 в противном случае."
   ]
  },
  {
   "cell_type": "code",
   "execution_count": null,
   "metadata": {},
   "outputs": [],
   "source": [
    "new_column = np.where((recipes[:, 1] <= 20) & (recipes[:, 2] <= 5), 1, 0)\n",
    "\n",
    "increased_recipes = np.column_stack((recipes, new_column))\n",
    "\n",
    "\n",
    "print(\"ID\".center(13), \"Minutes\".center(13), \"Ingridients\", \"Status\".center(12))\n",
    "for i in increased_recipes:\n",
    "    print(str(i[0]).center(13) + str(i[1]).center(13) + str(i[2]).center(13) + str(i[3]).center(13))"
   ]
  },
  {
   "cell_type": "markdown",
   "metadata": {},
   "source": [
    "13. Выведите процент \"простых\" рецептов в датасете"
   ]
  },
  {
   "cell_type": "code",
   "execution_count": null,
   "metadata": {},
   "outputs": [],
   "source": [
    "print(f\"Процент простых рецептов составляет: {np.count_nonzero(increased_recipes[:, 3] == 1) / len(recipes):.1%}\")"
   ]
  },
  {
   "cell_type": "markdown",
   "metadata": {},
   "source": [
    "14. Разделим рецепты на группы по следующему правилу. Назовем рецепты короткими, если их продолжительность составляет менее 10 минут; стандартными, если их продолжительность составляет более 10, но менее 20 минут; и длинными, если их продолжительность составляет не менее 20 минут. Создайте трехмерный массив, где нулевая ось отвечает за номер группы (короткий, стандартный или длинный рецепт), первая ось - за сам рецепт и вторая ось - за характеристики рецепта. Выберите максимальное количество рецептов из каждой группы таким образом, чтобы было возможно сформировать трехмерный массив. Выведите форму полученного массива."
   ]
  },
  {
   "cell_type": "code",
   "execution_count": null,
   "metadata": {},
   "outputs": [],
   "source": [
    "short_recipes = recipes[np.where(recipes[:, 1] <= 10)]\n",
    "medium_recipes = recipes[np.where((recipes[:, 1] > 10) & (recipes[:, 1] <= 20))]\n",
    "long_recipes = recipes[np.where(recipes[:, 1] > 20)]\n",
    "recipes_dict = {0:short_recipes, 1:medium_recipes, 2:long_recipes}\n",
    "\n",
    "first_axis_length = max(list(map(len, recipes_dict.values())))\n",
    "\n",
    "grouped_recipes = np.empty((3, first_axis_length, 3))\n",
    "\n",
    "for ind in range(3):\n",
    "    grouped_recipes[ind] = np.vstack((recipes_dict[ind], np.zeros((first_axis_length - len(recipes_dict[ind]), 3))))\n",
    "\n",
    "print(\"Group\".center(13), \"ID\".center(13), \"Minutes\".center(13), \"Ingridients\")\n",
    "for cnt, j in enumerate(grouped_recipes):\n",
    "    for i in range(len(j)):\n",
    "        print(str(cnt).center(13) + str(j[i][0]).center(13) + str(j[i][1]).center(13) + str(j[i][2]).center(13))"
   ]
  }
 ],
 "metadata": {
  "kernelspec": {
   "display_name": "Python 3 (ipykernel)",
   "language": "python",
   "name": "python3"
  },
  "language_info": {
   "codemirror_mode": {
    "name": "ipython",
    "version": 3
   },
   "file_extension": ".py",
   "mimetype": "text/x-python",
   "name": "python",
   "nbconvert_exporter": "python",
   "pygments_lexer": "ipython3",
   "version": "3.10.4"
  }
 },
 "nbformat": 4,
 "nbformat_minor": 4
}
