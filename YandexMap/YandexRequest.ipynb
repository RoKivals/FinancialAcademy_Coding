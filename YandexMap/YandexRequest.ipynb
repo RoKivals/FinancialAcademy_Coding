{
 "cells": [
  {
   "cell_type": "code",
   "execution_count": 8,
   "metadata": {
    "collapsed": true,
    "ExecuteTime": {
     "end_time": "2023-05-30T09:10:02.526980900Z",
     "start_time": "2023-05-30T09:10:02.417963400Z"
    }
   },
   "outputs": [
    {
     "data": {
      "image/png": "[encoded data removed]",
      "text/plain": "<IPython.core.display.Image object>"
     },
     "metadata": {},
     "output_type": "display_data"
    }
   ],
   "source": [
    "import requests, sys, os, numpy\n",
    "from IPython.display import Image, display\n",
    "\n",
    "\n",
    "# Создайте оконное приложение, отображающее карту по координатам и в масштабе, который задаётся программно.\n",
    "class MapParams(object):\n",
    "    def __init__(self, data: numpy.array):\n",
    "        self.dots = data\n",
    "\n",
    "        self.lat: float = numpy.nan  #61.665279  # Ширина\n",
    "        self.lon: float = numpy.nan  #50.813492  # Долгота\n",
    "\n",
    "        self.zoom: int = 10  # Масштаб карты на старте. Изменяется от 1 до 17\n",
    "        self.type: str = \"map\"  # Другие значения \"sat\", \"sat,skl\"\n",
    "\n",
    "        # Разрешение изображения (максимум 650x450)\n",
    "        self.width: int = 650\n",
    "        self.height: int = 450\n",
    "\n",
    "    # Преобразование координат в параметр ll, требуется без пробелов, через запятую и без скобок\n",
    "    def ll_key(self):\n",
    "        return f'{self.lon:6f},{self.lat:6f}'\n",
    "\n",
    "    def size_key(self):\n",
    "        return str(self.width) + \",\" + str(self.height)\n",
    "\n",
    "    # Находим центр изображения\n",
    "    def find_center(self) -> list:\n",
    "        res = list(numpy.mean(self.dots, axis=0))\n",
    "        self.lon, self.lat = res\n",
    "        return res\n",
    "\n",
    "    def find_borders(self):\n",
    "        pass\n",
    "\n",
    "\n",
    "# Создание карты с соответствующими параметрами.\n",
    "def load_map(mp):\n",
    "    map_request = \"http://static-maps.yandex.ru/1.x/?ll={ll}&z={z}&l={type}&size={sz}\".format(ll=mp.ll_key(),\n",
    "                                                                                              z=mp.zoom, type=mp.type,\n",
    "                                                                                              sz=mp.size_key())\n",
    "\n",
    "    response = requests.get(map_request)\n",
    "    if not response:\n",
    "        print(\"Ошибка выполнения запроса:\")\n",
    "        print(map_request)\n",
    "        print(\"Http статус:\", response.status_code, \"(\", response.reason, \")\")\n",
    "        sys.exit(1)\n",
    "\n",
    "    # Запись полученного изображения в файл.\n",
    "    map_file = \"map.png\"\n",
    "    try:\n",
    "        with open(map_file, \"wb\") as file:\n",
    "            file.write(response.content)\n",
    "    except IOError as ex:\n",
    "        print(\"Ошибка записи временного файла:\", ex)\n",
    "        sys.exit(2)\n",
    "    return map_file\n",
    "\n",
    "\n",
    "def main():\n",
    "    # Генерим случайные координаты\n",
    "    data = 360 * numpy.random.rand(5, 2) - 180\n",
    "    mp = MapParams(data)\n",
    "    mp.find_center()\n",
    "    load_map(mp)\n",
    "    display(Image(filename='map.png'))\n",
    "\n",
    "\n",
    "if __name__ == \"__main__\":\n",
    "    main()"
   ]
  },
  {
   "cell_type": "code",
   "execution_count": 7,
   "outputs": [],
   "source": [],
   "metadata": {
    "collapsed": false,
    "ExecuteTime": {
     "end_time": "2023-05-30T09:09:59.240283800Z",
     "start_time": "2023-05-30T09:09:59.215578100Z"
    }
   }
  },
  {
   "cell_type": "code",
   "execution_count": null,
   "outputs": [],
   "source": [],
   "metadata": {
    "collapsed": false
   }
  }
 ],
 "metadata": {
  "kernelspec": {
   "display_name": "Python 3",
   "language": "python",
   "name": "python3"
  },
  "language_info": {
   "codemirror_mode": {
    "name": "ipython",
    "version": 2
   },
   "file_extension": ".py",
   "mimetype": "text/x-python",
   "name": "python",
   "nbconvert_exporter": "python",
   "pygments_lexer": "ipython2",
   "version": "2.7.6"
  }
 },
 "nbformat": 4,
 "nbformat_minor": 0
}
