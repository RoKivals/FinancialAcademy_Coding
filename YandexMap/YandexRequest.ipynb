{
 "cells": [
  {
   "cell_type": "code",
   "execution_count": 18,
   "metadata": {
    "ExecuteTime": {
     "end_time": "2023-05-30T14:05:34.342541300Z",
     "start_time": "2023-05-30T14:05:34.286542800Z"
    }
   },
   "outputs": [
    {
     "name": "stdout",
     "output_type": "stream",
     "text": [
      "22.50,-99.80~25.20,25.20\n",
      "Ошибка выполнения запроса:\n",
      "http://static-maps.yandex.ru/1.x/?&size=650,450&l=map&bbox=22.50,-99.80~25.20,25.20&pl=w:6,bw:3,-93.50,22.50,-93.80,22.70,-94.60,23.10,-95.40,23.50,-96.30,23.90,-97.00,24.10,-97.70,24.50,-98.60,24.90,-99.80,25.20\n",
      "Http статус: 400 ( Bad Request )\n"
     ]
    },
    {
     "ename": "SystemExit",
     "evalue": "1",
     "output_type": "error",
     "traceback": [
      "An exception has occurred, use %tb to see the full traceback.\n",
      "\u001B[1;31mSystemExit\u001B[0m\u001B[1;31m:\u001B[0m 1\n"
     ]
    }
   ],
   "source": [
    "import requests, sys, os\n",
    "from IPython.display import Image, display\n",
    "from YandexMap import *\n",
    "\n",
    "\n",
    "# Создание карты с соответствующими параметрами.\n",
    "def load_map(mp):\n",
    "    #ll - центр (автомат)\n",
    "    #z(zoom) - масштабирование (автомат)\n",
    "    #size - разрешение изображения\n",
    "    #bbox - границы отображения\n",
    "    print(mp.bbox_key())\n",
    "    map_request = \"http://static-maps.yandex.ru/1.x/?&size={sz}&l={type}&bbox={bbox}&pl=w:6,bw:3,{coords}\". \\\n",
    "        format(type=mp.type, sz=mp.size_key(), coords=mp.line_key(), bbox=mp.bbox_key())\n",
    "\n",
    "    response = requests.get(map_request)\n",
    "    if not response:\n",
    "        print(\"Ошибка выполнения запроса:\")\n",
    "        print(map_request)\n",
    "        print(\"Http статус:\", response.status_code, \"(\", response.reason, \")\")\n",
    "        sys.exit(1)\n",
    "\n",
    "    # Запись полученного изображения в файл.\n",
    "    map_file = \"map.png\"\n",
    "    try:\n",
    "        with open(map_file, \"wb\") as file:\n",
    "            file.write(response.content)\n",
    "    except IOError as ex:\n",
    "        print(\"Ошибка записи временного файла:\", ex)\n",
    "        sys.exit(2)\n",
    "    return map_file\n",
    "\n",
    "\n",
    "def main():\n",
    "    data = numpy.array([22.5, -93.5, 22.7, -93.8, 23.1, -94.6, 23.5, -95.4, 23.9, -96.3, 24.1,\n",
    "                        -97.0, 24.5, -97.7, 24.9, -98.6, 25.2, -99.8]).reshape(-1, 2)\n",
    "    mp = MapParams(data)\n",
    "    load_map(mp)\n",
    "    display(Image(filename='map.png'))\n",
    "\n",
    "\n",
    "if __name__ == \"__main__\":\n",
    "    main()"
   ]
  },
  {
   "cell_type": "code",
   "execution_count": null,
   "metadata": {},
   "outputs": [],
   "source": []
  }
 ],
 "metadata": {
  "kernelspec": {
   "display_name": "Python 3 (ipykernel)",
   "language": "python",
   "name": "python3"
  },
  "language_info": {
   "codemirror_mode": {
    "name": "ipython",
    "version": 3
   },
   "file_extension": ".py",
   "mimetype": "text/x-python",
   "name": "python",
   "nbconvert_exporter": "python",
   "pygments_lexer": "ipython3",
   "version": "3.8.10"
  }
 },
 "nbformat": 4,
 "nbformat_minor": 1
}
