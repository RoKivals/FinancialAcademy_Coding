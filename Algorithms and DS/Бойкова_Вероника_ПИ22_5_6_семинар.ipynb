{
 "nbformat": 4,
 "nbformat_minor": 0,
 "metadata": {
  "colab": {
   "provenance": []
  },
  "kernelspec": {
   "name": "python3",
   "display_name": "Python 3"
  },
  "language_info": {
   "name": "python"
  }
 },
 "cells": [
  {
   "cell_type": "code",
   "source": [
    "global debug_indent\n",
    "\n",
    "\n",
    "def factorial(n):\n",
    "    global debug_indent\n",
    "    debug_indent += 1\n",
    "    print(\" \" * debug_indent, \"factorial(\", n, \")\")\n",
    "    if n == 0:\n",
    "        debug_indent -= 1\n",
    "        return 0\n",
    "    else:\n",
    "        result = n * factorial(n - 1)\n",
    "        debug_indent -= 1\n",
    "        return result\n",
    "\n",
    "\n",
    "debug_indent = 0\n",
    "print(factorial(4))"
   ],
   "metadata": {
    "colab": {
     "base_uri": "https://localhost:8080/"
    },
    "id": "bzkA_zi1Hv0y",
    "outputId": "b7fd05d5-32a9-4c21-d284-0cdddeb1859f"
   },
   "execution_count": 23,
   "outputs": [
    {
     "output_type": "stream",
     "name": "stdout",
     "text": [
      "  factorial( 4 )\n",
      "   factorial( 3 )\n",
      "    factorial( 2 )\n",
      "     factorial( 1 )\n",
      "      factorial( 0 )\n",
      "0\n"
     ]
    }
   ]
  },
  {
   "cell_type": "code",
   "source": [
    "indentation_level = 0\n",
    "\n",
    "\n",
    "def printIn(s):\n",
    "    global indentation_level\n",
    "    print(\" \" * indentation_level + s)\n",
    "    indentation_level += 1\n",
    "\n",
    "\n",
    "def printOut(s):\n",
    "    global indentation_level\n",
    "    indentation_level -= 1\n",
    "    print(\" \" * indentation_level + s)"
   ],
   "metadata": {
    "id": "ZTOxeKTYIM8M"
   },
   "execution_count": 24,
   "outputs": []
  },
  {
   "cell_type": "code",
   "source": [
    "def factorial(n):\n",
    "    printIn(f\"factorial({n})\")\n",
    "    if n == 0:\n",
    "        result = 1\n",
    "    else:\n",
    "        result = n * factorial(n - 1)\n",
    "    printOut(f\"{result}\")\n",
    "    return result\n",
    "\n",
    "\n",
    "print(factorial(4))"
   ],
   "metadata": {
    "colab": {
     "base_uri": "https://localhost:8080/"
    },
    "id": "-Pe5B7NhIVrJ",
    "outputId": "255921a6-d1df-466d-ae17-cb148adb21d6"
   },
   "execution_count": 28,
   "outputs": [
    {
     "output_type": "stream",
     "name": "stdout",
     "text": [
      "    factorial(4)\n",
      "     factorial(3)\n",
      "      factorial(2)\n",
      "       factorial(1)\n",
      "        factorial(0)\n",
      "        1\n",
      "       1\n",
      "      2\n",
      "     6\n",
      "    24\n",
      "24\n"
     ]
    }
   ]
  },
  {
   "cell_type": "code",
   "source": [
    "def fib(n):\n",
    "    if n < 0:\n",
    "        return -1\n",
    "    elif n == 0 or n == 1:\n",
    "        return n\n",
    "    else:\n",
    "        return fib(n - 1) + fib(n - 2)\n",
    "\n",
    "\n",
    "print(fib(5))\n",
    "print(fib(-3))"
   ],
   "metadata": {
    "colab": {
     "base_uri": "https://localhost:8080/"
    },
    "id": "hBodOqb-Ih5p",
    "outputId": "976d234b-8ff2-4c1a-9376-757ab7b5cfeb"
   },
   "execution_count": 29,
   "outputs": [
    {
     "output_type": "stream",
     "name": "stdout",
     "text": [
      "5\n",
      "-1\n"
     ]
    }
   ]
  }
 ]
}
