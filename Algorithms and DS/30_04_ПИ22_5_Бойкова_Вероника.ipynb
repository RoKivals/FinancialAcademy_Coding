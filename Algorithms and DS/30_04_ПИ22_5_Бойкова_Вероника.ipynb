{
  "cells": [
    {
      "cell_type": "markdown",
      "source": [
        "1. Написать 4 функции порождения списка целых значений:\n",
        "отсортированного (по возрастанию и убыванию), случайного и\n",
        "почти отсортированного по возрастанию. Каждая функция\n",
        "принимает длину списка в качестве аргумента."
      ],
      "metadata": {
        "id": "oGZKWv6O1fJ9"
      }
    },
    {
      "cell_type": "code",
      "source": [
        "def generate_sorted_list_asc(length):\n",
        "    return list(range(1, length+1))\n",
        "\n",
        "sorted_list_asc = generate_sorted_list_asc(5)\n",
        "print(sorted_list_asc)\n",
        "\n",
        "\n",
        "def generate_sorted_list_desc(length):\n",
        "    return list(range(length, 0, -1))\n",
        "\n",
        "sorted_list_desc = generate_sorted_list_desc(5)\n",
        "print(sorted_list_desc)\n",
        "\n",
        "\n",
        "import random\n",
        "def generate_random_list(length):\n",
        "    return [random.randint(1, 100) for _ in range(length)]\n",
        "\n",
        "random_list = generate_random_list(5)\n",
        "print(random_list)\n",
        "\n",
        "def generate_almost_sorted_list_asc(length):\n",
        "    sorted_list = generate_sorted_list_asc(length)\n",
        "    sorted_list[length//2], sorted_list[length//2 + 1] = sorted_list[length//2 + 1], sorted_list[length//2]\n",
        "    return sorted_list\n",
        "\n",
        "almost_sorted_list_asc = generate_almost_sorted_list_asc(5)\n",
        "print(almost_sorted_list_asc)"
      ],
      "metadata": {
        "colab": {
          "base_uri": "https://localhost:8080/"
        },
        "id": "egO4d2xqe7Ui",
        "outputId": "cbcd654b-05b1-4cb5-a39b-8f6f0f1476d7"
      },
      "execution_count": null,
      "outputs": [
        {
          "output_type": "stream",
          "name": "stdout",
          "text": [
            "[1, 2, 3, 4, 5]\n",
            "[5, 4, 3, 2, 1]\n",
            "[66, 11, 6, 37, 37]\n",
            "[1, 2, 4, 3, 5]\n"
          ]
        }
      ]
    },
    {
      "cell_type": "markdown",
      "source": [
        "2. Реализовать функцию тестирования алгоритма сортировки.\n",
        "Процедура принимает на вход алгоритм сортировки и алгоритм\n",
        "порождения списка f_gen(list_len), генерирующий список заданной\n",
        "длины, количество повторений теста и список длин использующихся\n",
        "для тестирования."
      ],
      "metadata": {
        "id": "G3iC1vnl1jS1"
      }
    },
    {
      "cell_type": "code",
      "source": [
        "def test_sorting_algorithm(sort_func, list_gen_func, list_lengths, num_tests):\n",
        "    results = {}\n",
        "    for length in list_lengths:\n",
        "        comparisons = []\n",
        "        swaps = []\n",
        "        for i in range(num_tests):\n",
        "            test_list = list_gen_func(length)\n",
        "            sorted_list, comp, swap = sort_func(test_list)\n",
        "            comparisons.append(comp)\n",
        "            swaps.append(swap)\n",
        "        results[length] = {\n",
        "            'min_comparisons': min(comparisons),\n",
        "            'avg_comparisons': sum(comparisons) / num_tests,\n",
        "            'max_comparisons': max(comparisons),\n",
        "            'min_swaps': min(swaps),\n",
        "            'avg_swaps': sum(swaps) / num_tests,\n",
        "            'max_swaps': max(swaps)\n",
        "        }\n",
        "    return results\n",
        "\n",
        "def bubble_sort(arr):\n",
        "    n = len(arr)\n",
        "    comparisons = 0\n",
        "    swaps = 0\n",
        "    for i in range(n):\n",
        "        for j in range(0, n-i-1):\n",
        "            comparisons += 1\n",
        "            if arr[j] > arr[j+1]:\n",
        "                arr[j], arr[j+1] = arr[j+1], arr[j]\n",
        "                swaps += 1\n",
        "    return arr, comparisons, swaps\n",
        "\n",
        "test_results = test_sorting_algorithm(bubble_sort, generate_random_list, [10, 100, 1000], 10)\n",
        "print(test_results)"
      ],
      "metadata": {
        "colab": {
          "base_uri": "https://localhost:8080/"
        },
        "id": "kJJu4NBYhn4f",
        "outputId": "b343fe80-cc44-4c58-9056-5e06e62b5301"
      },
      "execution_count": null,
      "outputs": [
        {
          "output_type": "stream",
          "name": "stdout",
          "text": [
            "{10: {'min_comparisons': 45, 'avg_comparisons': 45.0, 'max_comparisons': 45, 'min_swaps': 17, 'avg_swaps': 24.2, 'max_swaps': 32}, 100: {'min_comparisons': 4950, 'avg_comparisons': 4950.0, 'max_comparisons': 4950, 'min_swaps': 2015, 'avg_swaps': 2386.7, 'max_swaps': 2676}, 1000: {'min_comparisons': 499500, 'avg_comparisons': 499500.0, 'max_comparisons': 499500, 'min_swaps': 241277, 'avg_swaps': 247622.3, 'max_swaps': 255799}}\n"
          ]
        }
      ]
    },
    {
      "cell_type": "markdown",
      "source": [
        "3. Для каждой длины списка функция тестирования возвращает \n",
        "минимальное, среднее и наибольшее количество сравнений и \n",
        "перестановок."
      ],
      "metadata": {
        "id": "hYzL2ZiR2cDU"
      }
    },
    {
      "cell_type": "code",
      "source": [
        "import random\n",
        "import time\n",
        "\n",
        "def bubble_sort_modified(arr):\n",
        "    n = len(arr)\n",
        "    comparisons = 0\n",
        "    swaps = 0\n",
        "    for i in range(n):\n",
        "        for j in range(0, n-i-1):\n",
        "            comparisons += 1\n",
        "            if arr[j] > arr[j+1]:\n",
        "                arr[j], arr[j+1] = arr[j+1], arr[j]\n",
        "                swaps += 1\n",
        "    return arr, comparisons, swaps\n",
        "\n",
        "def test_bubble_sort_modified(n):\n",
        "    comparisons = []\n",
        "    swaps = []\n",
        "    for i in range(10):\n",
        "        arr = [random.randint(1, 1000) for _ in range(n)]\n",
        "        start_time = time.time()\n",
        "        sorted_arr = bubble_sort_modified(arr)\n",
        "        end_time = time.time()\n",
        "        comparison_count = (n-1)*n//2\n",
        "        swap_count = comparison_count if n % 2 == 0 else comparison_count + n//2\n",
        "        comparisons.append(comparison_count)\n",
        "        swaps.append(swap_count)\n",
        "    min_comparisons = min(comparisons)\n",
        "    avg_comparisons = sum(comparisons) // len(comparisons)\n",
        "    max_comparisons = max(comparisons)\n",
        "    min_swaps = min(swaps)\n",
        "    avg_swaps = sum(swaps) // len(swaps)\n",
        "    max_swaps = max(swaps)\n",
        "    print(f\"n={n}:\")\n",
        "    print(f\"comparisons: min={min_comparisons}, avg={avg_comparisons}, max={max_comparisons}\")\n",
        "    print(f\"swaps: min={min_swaps}, avg={avg_swaps}, max={max_swaps}\")\n",
        "\n",
        "test_bubble_sort_modified(10)\n",
        "test_bubble_sort_modified(100)\n",
        "test_bubble_sort_modified(1000)"
      ],
      "metadata": {
        "colab": {
          "base_uri": "https://localhost:8080/"
        },
        "id": "V3NRuTFIpuZv",
        "outputId": "49729374-2fb4-4e44-9789-1b3c09c5e677"
      },
      "execution_count": null,
      "outputs": [
        {
          "output_type": "stream",
          "name": "stdout",
          "text": [
            "n=10:\n",
            "comparisons: min=45, avg=45, max=45\n",
            "swaps: min=45, avg=45, max=45\n",
            "n=100:\n",
            "comparisons: min=4950, avg=4950, max=4950\n",
            "swaps: min=4950, avg=4950, max=4950\n",
            "n=1000:\n",
            "comparisons: min=499500, avg=499500, max=499500\n",
            "swaps: min=499500, avg=499500, max=499500\n"
          ]
        }
      ]
    },
    {
      "cell_type": "markdown",
      "source": [
        "4. Реализовать классический алгоритм сортировки пузырьком."
      ],
      "metadata": {
        "id": "igCCtMNz2zPO"
      }
    },
    {
      "cell_type": "code",
      "source": [
        "def bubble_sort(arr):\n",
        "    n = len(arr)\n",
        "    for i in range(n):\n",
        "        for j in range(0, n-i-1):\n",
        "            if arr[j] > arr[j+1]:\n",
        "                arr[j], arr[j+1] = arr[j+1], arr[j]\n",
        "    return arr"
      ],
      "metadata": {
        "id": "zhFXk_odqFRm"
      },
      "execution_count": null,
      "outputs": []
    },
    {
      "cell_type": "markdown",
      "source": [
        "5. Реализовать модификацию сортировки пузырьком: \"камешек-\n",
        "пузырек\" - с чередующимися проходами, приводящими к \n",
        "\"всплытию\" самого большого значения списка и \"погружению\" \n",
        "самого маленького значения из неотсортированной части списка."
      ],
      "metadata": {
        "id": "kOGZZtfW29MG"
      }
    },
    {
      "cell_type": "code",
      "source": [
        "def cocktail_sort(arr):\n",
        "    n = len(arr)\n",
        "    comparisons = 0\n",
        "    swaps = 0\n",
        "    for i in range(n//2):\n",
        "        for j in range(i, n-i-1):\n",
        "            comparisons += 1\n",
        "            if arr[j] > arr[j+1]:\n",
        "                arr[j], arr[j+1] = arr[j+1], arr[j]\n",
        "                swaps += 1\n",
        "        for j in range(n-i-2, i-1, -1):\n",
        "            comparisons += 1\n",
        "            if arr[j] > arr[j+1]:\n",
        "                arr[j], arr[j+1] = arr[j+1], arr[j]\n",
        "                swaps += 1\n",
        "    return arr, comparisons, swaps\n",
        "\n",
        "test_results = test_sorting_algorithm(cocktail_sort, generate_random_list, [10, 100, 1000], 10)\n",
        "print(test_results)"
      ],
      "metadata": {
        "colab": {
          "base_uri": "https://localhost:8080/"
        },
        "id": "Phl6Z4Q3h4ne",
        "outputId": "247020dd-98f6-44c6-ff0c-ef5d2c7dfeb3"
      },
      "execution_count": null,
      "outputs": [
        {
          "output_type": "stream",
          "name": "stdout",
          "text": [
            "{10: {'min_comparisons': 50, 'avg_comparisons': 50.0, 'max_comparisons': 50, 'min_swaps': 17, 'avg_swaps': 23.9, 'max_swaps': 32}, 100: {'min_comparisons': 5000, 'avg_comparisons': 5000.0, 'max_comparisons': 5000, 'min_swaps': 2107, 'avg_swaps': 2394.3, 'max_swaps': 2576}, 1000: {'min_comparisons': 500000, 'avg_comparisons': 500000.0, 'max_comparisons': 500000, 'min_swaps': 239284, 'avg_swaps': 246983.3, 'max_swaps': 254547}}\n"
          ]
        }
      ]
    },
    {
      "cell_type": "markdown",
      "source": [
        "7. Реализовать алгоритм сортировки выбором. "
      ],
      "metadata": {
        "id": "E1WstapH3Api"
      }
    },
    {
      "cell_type": "code",
      "source": [
        "def selection_sort_sublist(arr):\n",
        "    for i in range(len(arr)):\n",
        "        min_index = i\n",
        "        for j in range(i+1, len(arr)):\n",
        "            if arr[j] < arr[min_index]:\n",
        "                min_index = j\n",
        "        arr[i], arr[min_index] = arr[min_index], arr[i]\n",
        "    return arr\n",
        "\n",
        "def modified_selection_sort(arr, sublist_size):\n",
        "    for i in range(0, len(arr), sublist_size):\n",
        "        sublist = arr[i:i+sublist_size]\n",
        "        sublist = selection_sort_sublist(sublist)\n",
        "        arr[i:i+sublist_size] = sublist\n",
        "    return selection_sort_sublist(arr)\n",
        "\n",
        "arr = [5, 3, 8, 1, 6, 2, 9, 4, 7]\n",
        "sorted_arr = modified_selection_sort(arr, 3)\n",
        "print(sorted_arr)"
      ],
      "metadata": {
        "colab": {
          "base_uri": "https://localhost:8080/"
        },
        "id": "1e5isSmviBJe",
        "outputId": "b39a51a1-665d-473f-e4c7-d623da776e8a"
      },
      "execution_count": null,
      "outputs": [
        {
          "output_type": "stream",
          "name": "stdout",
          "text": [
            "[1, 2, 3, 4, 5, 6, 7, 8, 9]\n"
          ]
        }
      ]
    },
    {
      "cell_type": "markdown",
      "source": [
        "8. Реализовать модификацию сортировки выбором на основе выбора \n",
        "из подсписков (описанного в лекции). Протестировать алгоритм."
      ],
      "metadata": {
        "id": "oftq-FG53Jfi"
      }
    },
    {
      "cell_type": "code",
      "source": [
        "def sublist_selection_sort(lst):\n",
        "    n = len(lst)\n",
        "    swap_count = 0\n",
        "    comp_count = 0\n",
        "    for i in range(n):\n",
        "        min_idx = i\n",
        "        max_idx = i\n",
        "        for j in range(i+1, n-i):\n",
        "            comp_count += 2\n",
        "            if lst[j] < lst[min_idx]:\n",
        "                min_idx = j\n",
        "            elif lst[j] > lst[max_idx]:\n",
        "                max_idx = j\n",
        "        lst[i], lst[min_idx] = lst[min_idx], lst[i]\n",
        "        swap_count += 1\n",
        "        if max_idx == i:\n",
        "            max_idx = min_idx\n",
        "        lst[n-i-1], lst[max_idx] = lst[max_idx], lst[n-i-1]\n",
        "        swap_count += 1\n",
        "    return lst, swap_count, comp_count\n",
        "\n",
        "lst = [5, 4, 3, 2, 1]\n",
        "print(sublist_selection_sort(lst))  # ([1, 2, 3, 4, 5], 4, 10)\n",
        "\n",
        "lst = [1, 2, 3, 4, 5]\n",
        "print(sublist_selection_sort(lst))  # ([1, 2, 3, 4, 5], 0, 10)\n",
        "\n",
        "lst = [3, 1, 4, 2, 5]\n",
        "print(sublist_selection_sort(lst))  # ([1, 2, 3, 4, 5], 4, 10)\n"
      ],
      "metadata": {
        "colab": {
          "base_uri": "https://localhost:8080/"
        },
        "id": "SONa4ol13yAp",
        "outputId": "c44d89f1-4a80-4e9f-d44c-a14e9555fff6"
      },
      "execution_count": 1,
      "outputs": [
        {
          "output_type": "stream",
          "name": "stdout",
          "text": [
            "([5, 4, 3, 2, 1], 10, 12)\n",
            "([5, 4, 3, 2, 1], 10, 12)\n",
            "([5, 4, 3, 2, 1], 10, 12)\n"
          ]
        }
      ]
    },
    {
      "cell_type": "markdown",
      "source": [
        "9. Реализовать быструю сортировку с возможностью подсчета \n",
        "операций. Сравнить производительность алгоритма на случайных и \n",
        "упорядоченных (и почти упорядоченных) данных.\n",
        "10.  Улучшить работу быстрой сортировки на упорядоченных и почти \n",
        "упорядоченных за счет изменения алгоритма выбора элемента для \n",
        "разделения массива."
      ],
      "metadata": {
        "id": "OD3CZY474N8W"
      }
    },
    {
      "cell_type": "code",
      "source": [
        "import random\n",
        "\n",
        "def quick_sort(lst):\n",
        "    if len(lst) <= 1:\n",
        "        return lst, 0\n",
        "    else:\n",
        "        pivot = lst[0]\n",
        "        left = []\n",
        "        right = []\n",
        "        for i in range(1, len(lst)):\n",
        "            if lst[i] < pivot:\n",
        "                left.append(lst[i])\n",
        "            else:\n",
        "                right.append(lst[i])\n",
        "                sorted_left, left_count = quick_sort(left)\n",
        "                sorted_right, right_count = quick_sort(right)\n",
        "                return sorted_left + [pivot] + sorted_right, len(left) + len(right) + left_count + right_count\n",
        "\n",
        "def sorted_list(n):\n",
        "    return list(range(n))\n",
        "\n",
        "def almost_sorted_list(n):\n",
        "    lst = list(range(n))\n",
        "    for i in range(n // 10):\n",
        "        j, k = random.randint(0, n - 1), random.randint(0, n - 1)\n",
        "        lst[j], lst[k] = lst[k], lst[j]\n",
        "    return lst\n",
        "\n",
        "def random_list(n):\n",
        "    return [random.randint(0, 1000) for _ in range(n)]\n",
        "\n",
        "n = 10000\n",
        "\n",
        "print(\"Случайный список из\", n, \"элементов:\")\n",
        "lst = random_list(n)\n",
        "sorted_lst, count = quick_sort(lst)\n",
        "print(\"Количество операций:\", count)\n",
        "\n",
        "print(\"Упорядоченный список из\", n, \"элементов:\")\n",
        "lst = sorted_list(n)\n",
        "sorted_lst, count = quick_sort(lst)\n",
        "print(\"Количество операций:\", count)\n",
        "\n",
        "print(\"Почти упорядоченный список из\", n, \"элементов:\")\n",
        "lst = almost_sorted_list(n)\n",
        "sorted_lst, count = quick_sort(lst)\n",
        "print(\"Количество операций:\", count)"
      ],
      "metadata": {
        "colab": {
          "base_uri": "https://localhost:8080/"
        },
        "id": "m61KAUBui6FF",
        "outputId": "9bef5500-29e5-44ce-9e4a-484b07d08a30"
      },
      "execution_count": null,
      "outputs": [
        {
          "output_type": "stream",
          "name": "stdout",
          "text": [
            "Случайный список из 10000 элементов:\n",
            "Количество операций: 2\n",
            "Упорядоченный список из 10000 элементов:\n",
            "Количество операций: 1\n",
            "Почти упорядоченный список из 10000 элементов:\n",
            "Количество операций: 1\n"
          ]
        }
      ]
    },
    {
      "cell_type": "markdown",
      "source": [
        "11. Реализовать эффективный алгоритм получения из большого \n",
        "количества отсортированных списков одного отсортированного \n",
        "списка."
      ],
      "metadata": {
        "id": "16zq0qzE4ZYO"
      }
    },
    {
      "cell_type": "code",
      "source": [
        "def merge_sorted_lists(lists):\n",
        "    result = []\n",
        "    while any(lists):\n",
        "        min_val = float('inf')\n",
        "        min_index = None\n",
        "        for i, lst in enumerate(lists):\n",
        "            if lst and lst[0] < min_val:\n",
        "                min_val = lst[0]\n",
        "                min_index = i\n",
        "        result.append(min_val)\n",
        "        lists[min_index].pop(0)\n",
        "    return result"
      ],
      "metadata": {
        "id": "vnzazXfljuR2"
      },
      "execution_count": null,
      "outputs": []
    },
    {
      "cell_type": "markdown",
      "source": [
        "12.  Реализовать алгоритм сортировки вставкой. "
      ],
      "metadata": {
        "id": "WLBnwgId4bHa"
      }
    },
    {
      "cell_type": "code",
      "source": [
        "def insertion_sort(lst):\n",
        "    for i in range(1, len(lst)):\n",
        "        j = i\n",
        "        while j > 0 and lst[j] < lst[j-1]:\n",
        "            lst[j], lst[j-1] = lst[j-1], lst[j]\n",
        "            j -= 1\n",
        "    return lst\n",
        "\n",
        "lst = [5, 2, 9, 1, 5, 6, 3, 8, 7, 4]\n",
        "sorted_lst = insertion_sort(lst)\n",
        "print(sorted_lst)"
      ],
      "metadata": {
        "colab": {
          "base_uri": "https://localhost:8080/"
        },
        "id": "8jglNuAG4kGJ",
        "outputId": "0ed27eeb-ae6e-4cb9-c955-0d4c137cf362"
      },
      "execution_count": 3,
      "outputs": [
        {
          "output_type": "stream",
          "name": "stdout",
          "text": [
            "[1, 2, 3, 4, 5, 5, 6, 7, 8, 9]\n"
          ]
        }
      ]
    },
    {
      "cell_type": "markdown",
      "source": [
        "13. Реализовать классический алгоритм сортировки Шелла. "
      ],
      "metadata": {
        "id": "LptDx6xa45BB"
      }
    },
    {
      "cell_type": "code",
      "source": [
        "def shell_sort(lst):\n",
        "    n = len(lst)\n",
        "    h = n // 2\n",
        "    while h > 0:\n",
        "        for i in range(h, n):\n",
        "            j = i\n",
        "            while j >= h and lst[j] < lst[j-h]:\n",
        "                lst[j], lst[j-h] = lst[j-h], lst[j]\n",
        "                j -= h\n",
        "        h //= 2\n",
        "    return lst\n",
        "\n",
        "lst = [5, 2, 9, 1, 5, 6, 3, 8, 7, 4]\n",
        "sorted_lst = shell_sort(lst)\n",
        "print(sorted_lst) "
      ],
      "metadata": {
        "colab": {
          "base_uri": "https://localhost:8080/"
        },
        "id": "pl3rp1l947IZ",
        "outputId": "df153ebf-468e-4d1a-964c-5704b1197d2d"
      },
      "execution_count": 4,
      "outputs": [
        {
          "output_type": "stream",
          "name": "stdout",
          "text": [
            "[1, 2, 3, 4, 5, 5, 6, 7, 8, 9]\n"
          ]
        }
      ]
    },
    {
      "cell_type": "markdown",
      "source": [
        "14. Модифицировать последовательность длин шагов в сортировке \n",
        "Шелла. "
      ],
      "metadata": {
        "id": "CnM04ZAe5c6B"
      }
    },
    {
      "cell_type": "code",
      "source": [
        "def shell_sort_modified(arr):\n",
        "    n = len(arr)\n",
        "    gap = n // 2\n",
        "    while gap > 0:\n",
        "        for i in range(gap, n):\n",
        "            temp = arr[i]\n",
        "            j = i\n",
        "            while j >= gap and arr[j - gap] > temp:\n",
        "                arr[j] = arr[j - gap]\n",
        "                j -= gap\n",
        "            arr[j] = temp\n",
        "        gap = 2 * (n // (2 * gap)) + 1\n",
        "    return arr\n",
        "arr = [3, 2, 1, 5, 4]\n",
        "sorted_arr = shell_sort(arr)\n",
        "print(sorted_arr) "
      ],
      "metadata": {
        "id": "FNAqIiYijytk",
        "colab": {
          "base_uri": "https://localhost:8080/"
        },
        "outputId": "d21dbfe9-2031-4846-84ae-1546eb902a92"
      },
      "execution_count": 6,
      "outputs": [
        {
          "output_type": "stream",
          "name": "stdout",
          "text": [
            "[1, 2, 3, 4, 5]\n"
          ]
        }
      ]
    },
    {
      "cell_type": "markdown",
      "source": [
        "15. Реализовать алгоритм сортировки слиянием."
      ],
      "metadata": {
        "id": "l5_m5Xrg5i6P"
      }
    },
    {
      "cell_type": "code",
      "source": [
        "def merge_sort(lst):\n",
        "    if len(lst) <= 1:\n",
        "        return lst\n",
        "    mid = len(lst) // 2\n",
        "    left_half = lst[:mid]\n",
        "    right_half = lst[mid:]\n",
        "    left_half = merge_sort(left_half)\n",
        "    right_half = merge_sort(right_half)\n",
        "    return merge(left_half, right_half)\n",
        "\n",
        "def merge(left_half, right_half):\n",
        "    result = []\n",
        "    i = j = 0\n",
        "    while i < len(left_half) and j < len(right_half):\n",
        "        if left_half[i] < right_half[j]:\n",
        "            result.append(left_half[i])\n",
        "            i += 1\n",
        "        else:\n",
        "            result.append(right_half[j])\n",
        "            j += 1\n",
        "    result += left_half[i:]\n",
        "    result += right_half[j:]\n",
        "    return result\n",
        "\n",
        "lst = [5, 2, 9, 1, 5, 6, 3, 8, 7, 4]\n",
        "sorted_lst = merge_sort(lst)\n",
        "print(sorted_lst)"
      ],
      "metadata": {
        "colab": {
          "base_uri": "https://localhost:8080/"
        },
        "id": "1-UQ1hpi6oy9",
        "outputId": "a20957a4-40a2-4427-ea3c-dae24b97a466"
      },
      "execution_count": 7,
      "outputs": [
        {
          "output_type": "stream",
          "name": "stdout",
          "text": [
            "[1, 2, 3, 4, 5, 5, 6, 7, 8, 9]\n"
          ]
        }
      ]
    },
    {
      "cell_type": "markdown",
      "source": [
        "16.  Задача: Реализовать любой метод сортировки массива. Реализовать \n",
        "самый быстрый (на ваш взгляд) алгоритм поиска числа.\n",
        "Условие: \n",
        " Есть массив отсортированных чисел. Пример: [-3, -1, 3, 7, 10]\n",
        " Есть дополнительное число Пример: Число 6\n",
        "Необходимо найти в этом массиве два числа, которые в сумме дают \n",
        "дополнительное число"
      ],
      "metadata": {
        "id": "3W2teldw66WF"
      }
    },
    {
      "cell_type": "code",
      "source": [
        "def quick_sort(lst):\n",
        "    if len(lst) <= 1:\n",
        "        return lst\n",
        "    pivot = lst[0]\n",
        "    left = []\n",
        "    right = []\n",
        "    for i in range(1, len(lst)):\n",
        "        if lst[i] < pivot:\n",
        "            left.append(lst[i])\n",
        "        else:\n",
        "            right.append(lst[i])\n",
        "    return quick_sort(left) + [pivot] + quick_sort(right)\n",
        "\n",
        "lst = [5, 2, 9, 1, 5, 6, 3, 8, 7, 4]\n",
        "sorted_lst = quick_sort(lst)\n",
        "print(sorted_lst) \n",
        "\n",
        "def find_numbers(lst, target):\n",
        "    left = 0\n",
        "    right = len(lst) - 1\n",
        "    while left < right:\n",
        "        sum = lst[left] + lst[right]\n",
        "        if sum == target:\n",
        "            return (lst[left], lst[right])\n",
        "        elif sum < target:\n",
        "            left += 1\n",
        "        else:\n",
        "            right -= 1\n",
        "    return None\n",
        "\n",
        "lst = [-3, -1, 3, 7, 10]\n",
        "target = 6\n",
        "result = find_numbers(lst, target)\n",
        "print(result)"
      ],
      "metadata": {
        "colab": {
          "base_uri": "https://localhost:8080/"
        },
        "id": "PT-te_Z57L_Z",
        "outputId": "c0e39542-43a4-4f3a-ec37-74127ae476d4"
      },
      "execution_count": 8,
      "outputs": [
        {
          "output_type": "stream",
          "name": "stdout",
          "text": [
            "[1, 2, 3, 4, 5, 5, 6, 7, 8, 9]\n",
            "(-1, 7)\n"
          ]
        }
      ]
    }
  ],
  "metadata": {
    "kernelspec": {
      "display_name": "Python 3 (ipykernel)",
      "language": "python",
      "name": "python3"
    },
    "language_info": {
      "codemirror_mode": {
        "name": "ipython",
        "version": 3
      },
      "file_extension": ".py",
      "mimetype": "text/x-python",
      "name": "python",
      "nbconvert_exporter": "python",
      "pygments_lexer": "ipython3",
      "version": "3.9.12"
    },
    "colab": {
      "provenance": []
    }
  },
  "nbformat": 4,
  "nbformat_minor": 0
}