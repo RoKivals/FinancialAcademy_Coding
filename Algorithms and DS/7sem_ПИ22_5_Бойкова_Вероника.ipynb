{
  "cells": [
    {
      "cell_type": "code",
      "source": [
        "def debug(func):\n",
        "    def wrapper(*args, **kwargs):\n",
        "        print(f\"Вызов функции {func.__name__} с аргументами {args}\")\n",
        "        result = func(*args, **kwargs)\n",
        "        print(f\"Функция {func.__name__} вернула значение {result}\")\n",
        "        return result\n",
        "    return wrapper\n",
        "\n",
        "@debug\n",
        "def factorial(n):\n",
        "    if n == 0:\n",
        "        return 1\n",
        "    else:\n",
        "        return n * factorial(n-1)\n",
        "\n",
        "factorial(4)"
      ],
      "metadata": {
        "colab": {
          "base_uri": "https://localhost:8080/"
        },
        "id": "SXGTDEa-YJAy",
        "outputId": "c7c02a65-08a7-4952-fed5-4331b72461a5"
      },
      "execution_count": null,
      "outputs": [
        {
          "output_type": "stream",
          "name": "stdout",
          "text": [
            "Вызов функции factorial с аргументами (4,)\n",
            "Вызов функции factorial с аргументами (3,)\n",
            "Вызов функции factorial с аргументами (2,)\n",
            "Вызов функции factorial с аргументами (1,)\n",
            "Вызов функции factorial с аргументами (0,)\n",
            "Функция factorial вернула значение 1\n",
            "Функция factorial вернула значение 1\n",
            "Функция factorial вернула значение 2\n",
            "Функция factorial вернула значение 6\n",
            "Функция factorial вернула значение 24\n"
          ]
        },
        {
          "output_type": "execute_result",
          "data": {
            "text/plain": [
              "24"
            ]
          },
          "metadata": {},
          "execution_count": 7
        }
      ]
    },
    {
      "cell_type": "code",
      "source": [
        "import functools\n",
        "\n",
        "def debug(func):\n",
        "    @functools.wraps(func)\n",
        "    def wrapper(*args, **kwargs):\n",
        "        print(f\"Вызов функции {func.__name__} с аргументами {args}\")\n",
        "        result = func(*args, **kwargs)\n",
        "        print(f\"Функция {func.__name__} вернула значение {result}\")\n",
        "        return result\n",
        "    return wrapper\n",
        "\n",
        "@debug\n",
        "def factorial(n):\n",
        "    if n == 0:\n",
        "        return 1\n",
        "    else:\n",
        "        return n * factorial(n-1)\n",
        "\n",
        "print(factorial(4))"
      ],
      "metadata": {
        "colab": {
          "base_uri": "https://localhost:8080/"
        },
        "id": "lJVJLLsQcnON",
        "outputId": "31d3b792-d377-4aab-feb3-12a39b5863e9"
      },
      "execution_count": null,
      "outputs": [
        {
          "output_type": "stream",
          "name": "stdout",
          "text": [
            "Вызов функции factorial с аргументами (4,)\n",
            "Вызов функции factorial с аргументами (3,)\n",
            "Вызов функции factorial с аргументами (2,)\n",
            "Вызов функции factorial с аргументами (1,)\n",
            "Вызов функции factorial с аргументами (0,)\n",
            "Функция factorial вернула значение 1\n",
            "Функция factorial вернула значение 1\n",
            "Функция factorial вернула значение 2\n",
            "Функция factorial вернула значение 6\n",
            "Функция factorial вернула значение 24\n",
            "24\n"
          ]
        }
      ]
    },
    {
      "cell_type": "code",
      "source": [
        "import time\n",
        "\n",
        "def print_execution_time(func):\n",
        "    def wrapper(*args, **kwargs):\n",
        "        indentation = \"  \" * len(wrapper.call_stack)\n",
        "        print(f\"{indentation}{func.__name__}({args}, {kwargs})\")\n",
        "        wrapper.call_stack.append(None)\n",
        "        start_time = time.time()\n",
        "        result = func(*args, **kwargs)\n",
        "        end_time = time.time()\n",
        "        wrapper.call_stack.pop()\n",
        "        print(f\"{indentation}Time: {end_time - start_time}\")\n",
        "        print(f\"{indentation}Return value: {result}\")\n",
        "        return result\n",
        "    wrapper.call_stack = []\n",
        "    return wrapper\n",
        "\n",
        "@print_execution_time\n",
        "def fibonacci(n):\n",
        "    if n <= 1:\n",
        "        return n\n",
        "    return fibonacci(n-1) + fibonacci(n-2)\n",
        "\n",
        "print(fibonacci(5))"
      ],
      "metadata": {
        "id": "AdMTdsC9jFYK",
        "colab": {
          "base_uri": "https://localhost:8080/"
        },
        "outputId": "17046ac0-5395-435e-c6e9-29f3a1117b38"
      },
      "execution_count": 4,
      "outputs": [
        {
          "output_type": "stream",
          "name": "stdout",
          "text": [
            "fibonacci((5,), {})\n",
            "  fibonacci((4,), {})\n",
            "    fibonacci((3,), {})\n",
            "      fibonacci((2,), {})\n",
            "        fibonacci((1,), {})\n",
            "        Time: 1.1920928955078125e-06\n",
            "        Return value: 1\n",
            "        fibonacci((0,), {})\n",
            "        Time: 9.5367431640625e-07\n",
            "        Return value: 0\n",
            "      Time: 0.005572795867919922\n",
            "      Return value: 1\n",
            "      fibonacci((1,), {})\n",
            "      Time: 9.5367431640625e-07\n",
            "      Return value: 1\n",
            "    Time: 0.006183624267578125\n",
            "    Return value: 2\n",
            "    fibonacci((2,), {})\n",
            "      fibonacci((1,), {})\n",
            "      Time: 9.5367431640625e-07\n",
            "      Return value: 1\n",
            "      fibonacci((0,), {})\n",
            "      Time: 4.76837158203125e-07\n",
            "      Return value: 0\n",
            "    Time: 0.00023317337036132812\n",
            "    Return value: 1\n",
            "  Time: 0.006834268569946289\n",
            "  Return value: 3\n",
            "  fibonacci((3,), {})\n",
            "    fibonacci((2,), {})\n",
            "      fibonacci((1,), {})\n",
            "      Time: 7.152557373046875e-07\n",
            "      Return value: 1\n",
            "      fibonacci((0,), {})\n",
            "      Time: 7.152557373046875e-07\n",
            "      Return value: 0\n",
            "    Time: 9.34600830078125e-05\n",
            "    Return value: 1\n",
            "    fibonacci((1,), {})\n",
            "    Time: 4.76837158203125e-07\n",
            "    Return value: 1\n",
            "  Time: 0.0001900196075439453\n",
            "  Return value: 2\n",
            "Time: 0.00745391845703125\n",
            "Return value: 5\n",
            "5\n"
          ]
        }
      ]
    }
  ],
  "metadata": {
    "kernelspec": {
      "display_name": "Python 3 (ipykernel)",
      "language": "python",
      "name": "python3"
    },
    "language_info": {
      "codemirror_mode": {
        "name": "ipython",
        "version": 3
      },
      "file_extension": ".py",
      "mimetype": "text/x-python",
      "name": "python",
      "nbconvert_exporter": "python",
      "pygments_lexer": "ipython3",
      "version": "3.9.12"
    },
    "colab": {
      "provenance": []
    }
  },
  "nbformat": 4,
  "nbformat_minor": 0
}