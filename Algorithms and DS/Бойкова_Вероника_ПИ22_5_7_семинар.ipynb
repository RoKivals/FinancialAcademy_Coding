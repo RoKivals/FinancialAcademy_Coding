{
  "nbformat": 4,
  "nbformat_minor": 0,
  "metadata": {
    "colab": {
      "provenance": []
    },
    "kernelspec": {
      "name": "python3",
      "display_name": "Python 3"
    },
    "language_info": {
      "name": "python"
    }
  },
  "cells": [
    {
      "cell_type": "code",
      "source": [
        "def factorial(n, acc=1):\n",
        "    if n == 0:\n",
        "        return acc\n",
        "    else:\n",
        "        return factorial(n-1, acc*n)\n",
        "\n",
        "print(factorial(4))"
      ],
      "metadata": {
        "colab": {
          "base_uri": "https://localhost:8080/"
        },
        "id": "4kqHO3kRJkAh",
        "outputId": "9c5323d1-dc14-49f9-cdd4-249c2ae5650f"
      },
      "execution_count": 35,
      "outputs": [
        {
          "output_type": "stream",
          "name": "stdout",
          "text": [
            "24\n"
          ]
        }
      ]
    },
    {
      "cell_type": "code",
      "source": [
        "def fibonacci_tail(n, a=0, b=1):\n",
        "    if n == 0:\n",
        "        return a\n",
        "    elif n == 1:\n",
        "        return b\n",
        "    else:\n",
        "        return fibonacci_tail(n-1, b, a+b)\n",
        "\n",
        "print(fibonacci_tail(7))"
      ],
      "metadata": {
        "colab": {
          "base_uri": "https://localhost:8080/"
        },
        "id": "mIK3eZ9xJx7I",
        "outputId": "a45261c7-5a86-4bd8-bca8-56f225024d87"
      },
      "execution_count": 37,
      "outputs": [
        {
          "output_type": "stream",
          "name": "stdout",
          "text": [
            "13\n"
          ]
        }
      ]
    },
    {
      "cell_type": "code",
      "source": [
        "def print_return_values(func):\n",
        "    def wrapper(*args, **kwargs):\n",
        "        result = func(*args, **kwargs)\n",
        "        print(f\"{result}\")\n",
        "        return result\n",
        "    return wrapper\n",
        "\n",
        "def fibonacci_tail(n, a=0, b=1):\n",
        "    if n == 0:\n",
        "        return a\n",
        "    elif n == 1:\n",
        "        return b\n",
        "    else:\n",
        "        return fibonacci_tail(n-1, b, a+b)\n",
        "\n",
        "fibonacci_tail(7)"
      ],
      "metadata": {
        "colab": {
          "base_uri": "https://localhost:8080/"
        },
        "id": "R19vabMaKHYp",
        "outputId": "6f938b28-2b05-43b9-8979-d9c825e35288"
      },
      "execution_count": 40,
      "outputs": [
        {
          "output_type": "execute_result",
          "data": {
            "text/plain": [
              "13"
            ]
          },
          "metadata": {},
          "execution_count": 40
        }
      ]
    },
    {
      "cell_type": "code",
      "source": [
        "import functools\n",
        "\n",
        "def print_debug(func):\n",
        "    def wrapper(*args, **kwargs):\n",
        "        print(f\"{kwargs}\")\n",
        "        result = func(*args, **kwargs)\n",
        "        print(f\"{result}\")\n",
        "        return result\n",
        "    return wrapper\n",
        "\n",
        "def factorial(n):\n",
        "    if n == 0:\n",
        "        return 1\n",
        "    else:\n",
        "        return n * factorial(n-1)\n",
        "\n",
        "factorial(4) "
      ],
      "metadata": {
        "colab": {
          "base_uri": "https://localhost:8080/"
        },
        "id": "wCOW56f0KdkE",
        "outputId": "d28a6fa7-3a17-4fb1-fd51-472cd9947ed6"
      },
      "execution_count": 44,
      "outputs": [
        {
          "output_type": "execute_result",
          "data": {
            "text/plain": [
              "24"
            ]
          },
          "metadata": {},
          "execution_count": 44
        }
      ]
    },
    {
      "cell_type": "code",
      "source": [
        "import time\n",
        "import functools\n",
        "\n",
        "def print_debug(func):\n",
        "    def wrapper(*args, **kwargs):\n",
        "        indentation = \" \" * wrapper.level\n",
        "        print(f\"{kwargs}\")\n",
        "        start_time = time.time()\n",
        "        result = func(*args, **kwargs)\n",
        "        end_time = time.time()\n",
        "        return result\n",
        "    wrapper.level = 0\n",
        "    return wrapper\n",
        "\n",
        "def fibonacci(n):\n",
        "    if n == 0 or n == 1:\n",
        "        return n\n",
        "    else:\n",
        "        return fibonacci(n-1) + fibonacci(n-2)\n",
        "\n",
        "fibonacci(4)"
      ],
      "metadata": {
        "colab": {
          "base_uri": "https://localhost:8080/"
        },
        "id": "rhvFWpUiKy1Z",
        "outputId": "2cae02ed-2166-41ef-cbf2-1f45dc0aac6f"
      },
      "execution_count": 45,
      "outputs": [
        {
          "output_type": "execute_result",
          "data": {
            "text/plain": [
              "3"
            ]
          },
          "metadata": {},
          "execution_count": 45
        }
      ]
    }
  ]
}