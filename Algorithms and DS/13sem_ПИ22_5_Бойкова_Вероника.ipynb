{
  "cells": [
    {
      "cell_type": "markdown",
      "source": [
        "1. Реализовать алгоритм обхода графа в ширину.\n",
        "Поместить начальный узел, в пустую очередь.\n",
        "Извлечь из начала очереди узел и пометить его как \n",
        "развёрнутый.\n",
        "Если узел является целевым узлом, то \n",
        "завершить поиск с результатом «успех».\n",
        "В противном случае, в конец очереди \n",
        "добавляются все преемники узла, которые \n",
        "ещё не развёрнуты и не находятся в очереди.\n",
        "Если очередь пуста, то все узлы графа были \n",
        "просмотрены, следовательно, целевой узел \n",
        "недостижим из начального; завершить поиск с \n",
        "результатом «неудача».\n"
      ],
      "metadata": {
        "id": "fqG4hLyM_iIC"
      }
    },
    {
      "cell_type": "code",
      "source": [
        "from collections import deque\n",
        "\n",
        "def bfs(graph, start, target):\n",
        "    queue = deque()\n",
        "    queue.append(start)\n",
        "    visited = set()\n",
        "    while queue:\n",
        "        node = queue.popleft()\n",
        "        if node == target:\n",
        "            return True\n",
        "        visited.add(node)\n",
        "        for neighbor in graph[node]:\n",
        "            if neighbor not in visited:\n",
        "                queue.append(neighbor)\n",
        "    return False\n",
        "\n",
        "graph = {\n",
        "    'A': ['B', 'C'],\n",
        "    'B': ['D', 'E'],\n",
        "    'C': ['F'],\n",
        "    'D': [],\n",
        "    'E': ['F'],\n",
        "    'F': []\n",
        "}\n",
        "\n",
        "start = 'A'\n",
        "target = 'F'\n",
        "\n",
        "result = bfs(graph, start, target)\n",
        "print(result) "
      ],
      "metadata": {
        "colab": {
          "base_uri": "https://localhost:8080/"
        },
        "id": "u_2xC7dv_l7e",
        "outputId": "9db45a72-ba95-4969-f4c1-648a34c0f9fd"
      },
      "execution_count": 9,
      "outputs": [
        {
          "output_type": "stream",
          "name": "stdout",
          "text": [
            "True\n"
          ]
        }
      ]
    },
    {
      "cell_type": "markdown",
      "source": [
        "2. Реализовать алгоритмы обхода по структуре класса:\n",
        "прямой (Pre-Order),\n",
        "обратный (Post-Order),\n",
        "центрированный (In-Order),\n",
        "порядок уровней (level-order traversal)"
      ],
      "metadata": {
        "id": "BMusOYsIKkUv"
      }
    },
    {
      "cell_type": "code",
      "source": [
        "class Node:\n",
        "    def __init__(self, value):\n",
        "        self.value = value\n",
        "        self.left = None\n",
        "        self.right = None\n",
        "\n",
        "    def pre_order_traversal(self):\n",
        "        print(self.value)\n",
        "        if self.left:\n",
        "            self.left.pre_order_traversal()\n",
        "        if self.right:\n",
        "            self.right.pre_order_traversal()\n",
        "\n",
        "\n",
        "#Обратный обход (Post-Order)\n",
        "    def post_order_traversal(self):\n",
        "        if self.left:\n",
        "            self.left.post_order_traversal()\n",
        "        if self.right:\n",
        "            self.right.post_order_traversal()\n",
        "        print(self.value)\n",
        "\n",
        "\n",
        "#Центрированный обход (In-Order)\n",
        "    def in_order_traversal(self):\n",
        "        if self.left:\n",
        "            self.left.in_order_traversal()\n",
        "        print(self.value)\n",
        "        if self.right:\n",
        "            self.right.in_order_traversal()\n",
        "\n",
        "\n",
        "#Порядок уровней (Level-Order Traversal)\n",
        "    def level_order_traversal(self):\n",
        "        queue = [self]\n",
        "        while queue:\n",
        "            node = queue.pop(0)\n",
        "            print(node.value)\n",
        "            if node.left:\n",
        "                queue.append(node.left)\n",
        "            if node.right:\n",
        "                queue.append(node.right)\n",
        "\n",
        "root = Node(1)\n",
        "root.left = Node(2)\n",
        "root.right = Node(3)\n",
        "root.left.left = Node(4)\n",
        "root.left.right = Node(5)\n",
        "\n",
        "print(\"Pre-Order Traversal:\")\n",
        "root.pre_order_traversal()\n",
        "\n",
        "print(\"Post-Order Traversal:\")\n",
        "root.post_order_traversal()\n",
        "\n",
        "print(\"In-Order Traversal:\")\n",
        "root.in_order_traversal()\n",
        "\n",
        "print(\"Level-Order Traversal:\")\n",
        "root.level_order_traversal()"
      ],
      "metadata": {
        "colab": {
          "base_uri": "https://localhost:8080/"
        },
        "id": "00b0O7SdKs4N",
        "outputId": "989218af-6235-439f-f6e7-a90894cc40f0"
      },
      "execution_count": 2,
      "outputs": [
        {
          "output_type": "stream",
          "name": "stdout",
          "text": [
            "Pre-Order Traversal:\n",
            "1\n",
            "2\n",
            "4\n",
            "5\n",
            "3\n",
            "Post-Order Traversal:\n",
            "4\n",
            "5\n",
            "2\n",
            "3\n",
            "1\n",
            "In-Order Traversal:\n",
            "4\n",
            "2\n",
            "5\n",
            "1\n",
            "3\n",
            "Level-Order Traversal:\n",
            "1\n",
            "2\n",
            "3\n",
            "4\n",
            "5\n"
          ]
        }
      ]
    },
    {
      "cell_type": "markdown",
      "source": [
        "Реализовать алгоритм обхода графа в ширину.\n",
        "Поместить начальный узел, в пустую очередь.\n",
        "Извлечь из начала очереди узел и пометить его как \n",
        "развёрнутый.\n",
        "Если узел является целевым узлом, то \n",
        "завершить поиск с результатом «успех».\n",
        "В противном случае, в конец очереди \n",
        "добавляются все преемники узла, которые \n",
        "ещё не развёрнуты и не находятся в очереди.\n",
        "Если очередь пуста, то все узлы графа были \n",
        "просмотрены, следовательно, целевой узел \n",
        "недостижим из начального; завершить поиск с \n",
        "результатом «неудача».\n",
        "Вернуться к п. 2."
      ],
      "metadata": {
        "id": "HBcFW60CLgH3"
      }
    },
    {
      "cell_type": "code",
      "source": [
        "from queue import Queue\n",
        "\n",
        "class Graph:\n",
        "    def __init__(self, vertices):\n",
        "        self.vertices = vertices\n",
        "        self.adj_list = {v: [] for v in vertices}\n",
        "\n",
        "    def add_edge(self, u, v):\n",
        "        self.adj_list[u].append(v)\n",
        "        self.adj_list[v].append(u)\n",
        "\n",
        "    def bfs(self, start):\n",
        "        visited = {v: False for v in self.vertices}\n",
        "        queue = Queue()\n",
        "        queue.put(start)\n",
        "        visited[start] = True\n",
        "\n",
        "        while not queue.empty():\n",
        "            u = queue.get()\n",
        "            print(u, end=\" \")\n",
        "\n",
        "            for v in self.adj_list[u]:\n",
        "                if not visited[v]:\n",
        "                    visited[v] = True\n",
        "                    queue.put(v)\n",
        "\n",
        "g = Graph([1, 2, 3, 4, 5])\n",
        "g.add_edge(1, 2)\n",
        "g.add_edge(1, 3)\n",
        "g.add_edge(2, 4)\n",
        "g.add_edge(2, 5)\n",
        "\n",
        "print(\"BFS Traversal:\")\n",
        "g.bfs(1)"
      ],
      "metadata": {
        "colab": {
          "base_uri": "https://localhost:8080/"
        },
        "id": "NPD3wTUcLnOW",
        "outputId": "c0026e53-21e4-4bb3-b314-da71f1449a0e"
      },
      "execution_count": 3,
      "outputs": [
        {
          "output_type": "stream",
          "name": "stdout",
          "text": [
            "BFS Traversal:\n",
            "1 2 3 4 5 "
          ]
        }
      ]
    },
    {
      "cell_type": "markdown",
      "source": [
        " Реализовать алгоритм обхода графа в глубину.\n",
        "Поместите любую вершину графа на вершину \n",
        "стека.\n",
        "Возьмите верхний элемент стека и добавьте его в \n",
        "список “Пройденных”.\n",
        "Создайте список смежных вершин для этой \n",
        "вершины. Добавьте те вершины, которых нет в \n",
        "списке “Пройденных”, в верх стека.\n",
        "Необходимо повторять шаги 2 и 3, пока стек не \n",
        "станет пустым."
      ],
      "metadata": {
        "id": "ok1uNzMtLtco"
      }
    },
    {
      "cell_type": "code",
      "source": [
        "class Graph:\n",
        "    def __init__(self, vertices):\n",
        "        self.vertices = vertices\n",
        "        self.adj_list = {v: [] for v in vertices}\n",
        "\n",
        "    def add_edge(self, u, v):\n",
        "        self.adj_list[u].append(v)\n",
        "        self.adj_list[v].append(u)\n",
        "\n",
        "    def dfs(self, start):\n",
        "        visited = {v: False for v in self.vertices}\n",
        "        stack = [start]\n",
        "\n",
        "        while stack:\n",
        "            u = stack.pop()\n",
        "            if not visited[u]:\n",
        "                visited[u] = True\n",
        "                print(u, end=\" \")\n",
        "\n",
        "                for v in reversed(self.adj_list[u]):\n",
        "                    if not visited[v]:\n",
        "                      stack.append(v)\n",
        "\n",
        "g = Graph([1, 2, 3, 4, 5])\n",
        "g.add_edge(1, 2)\n",
        "g.add_edge(1, 3)\n",
        "g.add_edge(2, 4)\n",
        "g.add_edge(2, 5)\n",
        "\n",
        "print(\"DFS Traversal:\")\n",
        "g.dfs(1)"
      ],
      "metadata": {
        "colab": {
          "base_uri": "https://localhost:8080/"
        },
        "id": "_aXEd3NXL2H4",
        "outputId": "4798dc64-cdcc-4342-ac73-9445d4a29b97"
      },
      "execution_count": 4,
      "outputs": [
        {
          "output_type": "stream",
          "name": "stdout",
          "text": [
            "DFS Traversal:\n",
            "1 2 4 5 3 "
          ]
        }
      ]
    },
    {
      "cell_type": "markdown",
      "source": [
        "Реализовать алгоритм поиска кратчайшего пути графа \n",
        "(алгоритм Дейкстры) \n",
        "Количество узлов графа не менее 10\n",
        "Каждая ветка графа имеет “вес” "
      ],
      "metadata": {
        "id": "4fnzOYCYMGdl"
      }
    },
    {
      "cell_type": "code",
      "source": [
        "import heapq\n",
        "\n",
        "class Graph:\n",
        "    def __init__(self, vertices):\n",
        "        self.vertices = vertices\n",
        "        self.adj_list = {v: [] for v in vertices}\n",
        "\n",
        "    def add_edge(self, u, v, weight):\n",
        "        self.adj_list[u].append((v, weight))\n",
        "        self.adj_list[v].append((u, weight))\n",
        "\n",
        "    def dijkstra(self, start):\n",
        "        distances = {v: float('inf') for v in self.vertices}\n",
        "        distances[start] = 0\n",
        "        pq = [(0, start)]\n",
        "\n",
        "        while pq:\n",
        "            curr_dist, curr_node = heapq.heappop(pq)\n",
        "\n",
        "            if curr_dist > distances[curr_node]:\n",
        "                continue\n",
        "\n",
        "            for neighbor, weight in self.adj_list[curr_node]:\n",
        "                dist = curr_dist + weight\n",
        "\n",
        "                if dist < distances[neighbor]:\n",
        "                    distances[neighbor] = dist\n",
        "                    heapq.heappush(pq, (dist, neighbor))\n",
        "\n",
        "        return distances\n",
        "        \n",
        "g = Graph([1, 2, 3, 4, 5, 6, 7, 8, 9, 10])\n",
        "g.add_edge(1, 2, 4)\n",
        "g.add_edge(1, 3, 2)\n",
        "g.add_edge(2, 3, 1)\n",
        "g.add_edge(2, 4, 5)\n",
        "g.add_edge(3, 4, 8)\n",
        "g.add_edge(3, 5, 10)\n",
        "g.add_edge(4, 5, 2)\n",
        "g.add_edge(4, 6, 6)\n",
        "g.add_edge(5, 7, 3)\n",
        "g.add_edge(6, 7, 1)\n",
        "g.add_edge(6, 8, 4)\n",
        "g.add_edge(7, 8, 2)\n",
        "g.add_edge(7, 9, 5)\n",
        "g.add_edge(8, 9, 1)\n",
        "g.add_edge(9, 10, 3)\n",
        "\n",
        "print(\"Shortest distances from node 1:\")\n",
        "distances = g.dijkstra(1)\n",
        "print(distances)"
      ],
      "metadata": {
        "colab": {
          "base_uri": "https://localhost:8080/"
        },
        "id": "52Y_f_y8MHGD",
        "outputId": "dbaee0cf-84f2-4f34-9d8a-3b6cac45d81b"
      },
      "execution_count": 5,
      "outputs": [
        {
          "output_type": "stream",
          "name": "stdout",
          "text": [
            "Shortest distances from node 1:\n",
            "{1: 0, 2: 3, 3: 2, 4: 8, 5: 10, 6: 14, 7: 13, 8: 15, 9: 16, 10: 19}\n"
          ]
        }
      ]
    },
    {
      "cell_type": "markdown",
      "source": [
        "Создать класс BinaryTreeLL реализующий API для \n",
        "хранения двоичных деревьев в виде списка списков.\n",
        "* BinaryTreeLL(tree) - создание нового экземпляра бинарного \n",
        "дерева. tree - или значение root_val или список содержащий \n",
        "бинарное дерево или BinaryTreeLL.\n",
        "* get_left_child() - возвращает бинарное дерево связанное с \n",
        "левым дочерним узлом рассматриваемого узла.\n",
        "* get_right_child() - возвращает бинарное дерево связанное с \n",
        "правым дочерним узлом рассматриваемого узла.\n",
        "* get_val() - возвращает объект, хранящийся в данном узле.\n",
        "* set_val(val) - сохраняет объект val в данный узел.\n",
        "* insert_left_child(ll_val) - вставляет новое бинарное дерево в \n",
        "левый дочерний узел. ll_val - это или представление бинарного \n",
        "дерева в виде списка списков или BinaryTreeLL.\n",
        "* insert_right_child(ll_val) - вставляет новое бинарное дерево в \n",
        "правый дочерний узел. ll_val - это или представление бинарного \n",
        "дерева в виде списка списков или BinaryTreeLL.\n",
        "* get_tree_list() - возвращает представление дерева в виде \n",
        "списка."
      ],
      "metadata": {
        "id": "87z5ytyoMRCw"
      }
    },
    {
      "cell_type": "code",
      "source": [
        "class BinaryTreeLL:\n",
        "    def __init__(self, tree=None):\n",
        "        if isinstance(tree, list):\n",
        "            self.tree = tree\n",
        "        elif isinstance(tree, BinaryTreeLL):\n",
        "            self.tree = tree.get_tree_list()\n",
        "        else:\n",
        "            self.tree = [tree, [], []]\n",
        "\n",
        "    def get_left_child(self):\n",
        "        return BinaryTreeLL(self.tree[1])\n",
        "\n",
        "    def get_right_child(self):\n",
        "        return BinaryTreeLL(self.tree[2])\n",
        "\n",
        "    def get_val(self):\n",
        "        return self.tree[0]\n",
        "\n",
        "    def set_val(self, val):\n",
        "        self.tree[0] = val\n",
        "\n",
        "    def insert_left_child(self, ll_val):\n",
        "        if isinstance(ll_val, list):\n",
        "            self.tree[1] = ll_val\n",
        "        elif isinstance(ll_val, BinaryTreeLL):\n",
        "            self.tree[1] = ll_val.get_tree_list()\n",
        "        else:\n",
        "            self.tree[1] = [ll_val, [], []]\n",
        "\n",
        "    def insert_right_child(self, ll_val):\n",
        "        if isinstance(ll_val, list):\n",
        "            self.tree[2] = ll_val\n",
        "        elif isinstance(ll_val, BinaryTreeLL):\n",
        "            self.tree[2] = ll_val.get_tree_list()\n",
        "        else:\n",
        "            self.tree[2] = [ll_val, [], []]\n",
        "\n",
        "    def get_tree_list(self):\n",
        "        return self.tree\n",
        "\n",
        "tree = BinaryTreeLL(1)\n",
        "left_child = BinaryTreeLL(2)\n",
        "right_child = BinaryTreeLL(3)\n",
        "tree.insert_left_child(left_child)\n",
        "tree.insert_right_child(right_child)\n",
        "\n",
        "print(tree.get_val())\n",
        "print(tree.get_left_child().get_val()) \n",
        "print(tree.get_right_child().get_val()) \n",
        "\n",
        "tree.set_val(4)\n",
        "print(tree.get_val())\n",
        "\n",
        "new_left_child = BinaryTreeLL(5)\n",
        "tree.get_left_child().insert_left_child(new_left_child)\n",
        "print(tree.get_left_child().get_left_child().get_val())\n",
        "\n",
        "print(tree.get_tree_list()) "
      ],
      "metadata": {
        "colab": {
          "base_uri": "https://localhost:8080/"
        },
        "id": "AnlERrZ0MQgc",
        "outputId": "c9176cbf-35c3-46af-c5b0-188c8e6edb56"
      },
      "execution_count": 7,
      "outputs": [
        {
          "output_type": "stream",
          "name": "stdout",
          "text": [
            "1\n",
            "2\n",
            "3\n",
            "4\n",
            "5\n",
            "[4, [2, [5, [], []], []], [3, [], []]]\n"
          ]
        }
      ]
    },
    {
      "cell_type": "markdown",
      "source": [
        "Создать класс BinaryNode реализующий API для хранения \n",
        "двоичных деревьев в виде объектов, ссылающихся на родителя и \n",
        "потомков.\n",
        "* BinaryNode(val) - создание нового экземпляра бинарного \n",
        "дерева. val - или значение root_val или бинарное дерево в виде \n",
        "BinaryNode.\n",
        "* get_val() - возвращает объект, хранящийся в данном узле.\n",
        "* set_val(val) - сохраняет объект val в данный узел.\n",
        "* get_left_child() - возвращает левый дочерний узел \n",
        "рассматриваемого узла.\n",
        "* get_right_child() - возвращает правый дочерний узел \n",
        "рассматриваемого узла.\n",
        "* set_left_child(node) - устанавливает новый левый дочерний \n",
        "узел. node - это или узел BinaryNode или None.\n",
        "* set_right_child(node) - устанавливает новый правый дочерний \n",
        "узел. node - это или узел BinaryNode или None.\n",
        "* get_parent() - возвращает родительский узел.\n",
        "* set_parent(node) - устанавливает новый родительский узел. \n",
        "node - это или узел BinaryNode или None."
      ],
      "metadata": {
        "id": "4FKGeFPbMq6w"
      }
    },
    {
      "cell_type": "code",
      "source": [
        "class BinaryNode:\n",
        "    def __init__(self, val=None):\n",
        "        self.parent = None\n",
        "        self.left_child = None\n",
        "        self.right_child = None\n",
        "        if isinstance(val, BinaryNode):\n",
        "            self.val = val.get_val()\n",
        "            self.set_left_child(val.get_left_child())\n",
        "            self.set_right_child(val.get_right_child())\n",
        "        else:\n",
        "            self.val = val\n",
        "    \n",
        "    def get_val(self):\n",
        "        return self.val\n",
        "    \n",
        "    def set_val(self, val):\n",
        "        self.val = val\n",
        "    \n",
        "    def get_left_child(self):\n",
        "        return self.left_child\n",
        "    \n",
        "    def get_right_child(self):\n",
        "        return self.right_child\n",
        "    \n",
        "    def set_left_child(self, node):\n",
        "        self.left_child = node\n",
        "        if node is not None:\n",
        "            node.set_parent(self)\n",
        "    \n",
        "    def set_right_child(self, node):\n",
        "        self.right_child = node\n",
        "        if node is not None:\n",
        "            node.set_parent(self)\n",
        "    \n",
        "    def get_parent(self):\n",
        "        return self.parent\n",
        "    \n",
        "    def set_parent(self, node):\n",
        "        self.parent = node\n",
        "\n",
        "root = BinaryNode(10)\n",
        "\n",
        "left_child = BinaryNode(5)\n",
        "right_child = BinaryNode(15)\n",
        "\n",
        "root.set_left_child(left_child)\n",
        "root.set_right_child(right_child)\n",
        "\n",
        "print(root.get_val()) \n",
        "print(left_child.get_val()) \n",
        "print(right_child.get_val()) \n",
        "\n",
        "print(root.get_left_child())\n",
        "print(root.get_right_child())\n",
        "\n",
        "print(left_child.get_parent())"
      ],
      "metadata": {
        "colab": {
          "base_uri": "https://localhost:8080/"
        },
        "id": "CSnF_iouMxOx",
        "outputId": "81c0033a-7ca9-45c7-a697-b8bdb0dc8fcb"
      },
      "execution_count": 8,
      "outputs": [
        {
          "output_type": "stream",
          "name": "stdout",
          "text": [
            "10\n",
            "5\n",
            "15\n",
            "<__main__.BinaryNode object at 0x7fdda1e8b2e0>\n",
            "<__main__.BinaryNode object at 0x7fdda1e8a470>\n",
            "<__main__.BinaryNode object at 0x7fdda1e899f0>\n"
          ]
        }
      ]
    },
    {
      "cell_type": "markdown",
      "source": [
        "Реализовать двоичное дерево поиска с поддержкой \n",
        "операций: вставки (insert), проверки вхождения (оператор in) и \n",
        "удаления значений (оператор del)."
      ],
      "metadata": {
        "id": "tDFbInd1Ptp4"
      }
    },
    {
      "cell_type": "code",
      "source": [
        "class BinarySearchTree:\n",
        "    class Node:\n",
        "        def __init__(self, value):\n",
        "            self.value = value\n",
        "            self.left_child = None\n",
        "            self.right_child = None\n",
        "\n",
        "    def __init__(self):\n",
        "        self.root = None\n",
        "\n",
        "    def insert(self, value):\n",
        "        if not self.root:\n",
        "            self.root = BinarySearchTree.Node(value)\n",
        "        else:\n",
        "            self._insert(value, self.root)\n",
        "\n",
        "    def _insert(self, value, node):\n",
        "        if value < node.value:\n",
        "            if node.left_child:\n",
        "                self._insert(value, node.left_child)\n",
        "            else:\n",
        "                node.left_child = BinarySearchTree.Node(value)\n",
        "        else:\n",
        "            if node.right_child:\n",
        "                self._insert(value, node.right_child)\n",
        "            else:\n",
        "                node.right_child = BinarySearchTree.Node(value)\n",
        "\n",
        "    def __contains__(self, value):\n",
        "        return self._contains(value, self.root)\n",
        "\n",
        "    def _contains(self, value, node):\n",
        "        if not node:\n",
        "            return False\n",
        "        elif node.value == value:\n",
        "            return True\n",
        "        elif value < node.value:\n",
        "            return self._contains(value, node.left_child)\n",
        "        else:\n",
        "            return self._contains(value, node.right_child)\n",
        "\n",
        "    def __delitem__(self, value):\n",
        "        self.root = self._delete(value, self.root)\n",
        "\n",
        "    def _delete(self, value, node):\n",
        "        if not node:\n",
        "            return None\n",
        "        elif value < node.value:\n",
        "            node.left_child = self._delete(value, node.left_child)\n",
        "        elif value > node.value:\n",
        "            node.right_child = self._delete(value, node.right_child)\n",
        "        else:\n",
        "            if not node.left_child and not node.right_child:\n",
        "                del node\n",
        "                return None\n",
        "            elif not node.left_child:\n",
        "                temp = node.right_child\n",
        "                del node\n",
        "                return temp\n",
        "            elif not node.right_child:\n",
        "                temp = node.left_child\n",
        "                del node\n",
        "                return temp\n",
        "            else:\n",
        "                temp = self._find_min(node.right_child)\n",
        "                node.value = temp.value\n",
        "                node.right_child = self._delete(temp.value, node.right_child)\n",
        "        return node\n",
        "\n",
        "    def _find_min(self, node):\n",
        "        while node.left_child:\n",
        "            node = node.left_child\n",
        "        return node\n",
        "\n"
      ],
      "metadata": {
        "id": "VYCQauXlPjXd"
      },
      "execution_count": 11,
      "outputs": []
    },
    {
      "cell_type": "markdown",
      "source": [
        " Реализовать функцию построения двоичной кучи из \n",
        "неотсортированного списка."
      ],
      "metadata": {
        "id": "1WD3s6MhPvj3"
      }
    },
    {
      "cell_type": "code",
      "source": [
        "class BinaryHeap:\n",
        "    def __init__(self):\n",
        "        self.heap_list = [0]\n",
        "        self.current_size = 0\n",
        "\n",
        "    def insert(self, value):\n",
        "        self.heap_list.append(value)\n",
        "        self.current_size += 1\n",
        "        self._percolate_up(self.current_size)\n",
        "\n",
        "    def _percolate_up(self, i):\n",
        "        while i // 2 > 0:\n",
        "            if self.heap_list[i] < self.heap_list[i // 2]:\n",
        "                temp = self.heap_list[i // 2]\n",
        "                self.heap_list[i // 2] = self.heap_list[i]\n",
        "                self.heap_list[i] = temp\n",
        "            i //= 2\n",
        "\n",
        "    def build_heap(self, lst):\n",
        "        i = len(lst) // 2\n",
        "        self.current_size = len(lst)\n",
        "        self.heap_list = [0] + lst[:]\n",
        "        while i > 0:\n",
        "            self._percolate_down(i)\n",
        "            i -= 1\n",
        "\n",
        "    def _percolate_down(self, i):\n",
        "        while (i * 2) <= self.current_size:\n",
        "            mc = self._min_child(i)\n",
        "            if self.heap_list[i] > self.heap_list[mc]:\n",
        "                temp = self.heap_list[i]\n",
        "                self.heap_list[i] = self.heap_list[mc]\n",
        "                self.heap_list[mc] = temp\n",
        "            i = mc\n",
        "\n",
        "    def _min_child(self, i):\n",
        "        if i * 2 + 1 > self.current_size:\n",
        "            return i * 2\n",
        "        else:\n",
        "            if self.heap_list[i * 2] < self.heap_list[i * 2 + 1]:\n",
        "                return i * 2\n",
        "            else:\n",
        "                return i * 2 + 1\n",
        "\n",
        "    def del_min(self):\n",
        "        ret_val = self.heap_list[1]\n",
        "        self.heap_list[1] = self.heap_list[self.current_size]\n",
        "        self.current_size -= 1\n",
        "        self.heap_list.pop()\n",
        "        self._percolate_down(1)\n",
        "        return ret_val\n",
        "\n",
        "    def is_empty(self):\n",
        "        return len(self.heap_list) == 1\n",
        "\n",
        "    def size(self):\n",
        "        return self.current_size\n",
        "\n",
        "lst = [9, 6, 5, 2, 3]\n",
        "heap = BinaryHeap()\n",
        "heap.build_heap(lst)\n",
        "print(heap.del_min())\n",
        "print(heap.del_min()) \n",
        "print(heap.del_min())"
      ],
      "metadata": {
        "colab": {
          "base_uri": "https://localhost:8080/"
        },
        "id": "s5OQFlMjPztf",
        "outputId": "6606ae14-16b2-4ea9-c7de-14a4d7f1e590"
      },
      "execution_count": 12,
      "outputs": [
        {
          "output_type": "stream",
          "name": "stdout",
          "text": [
            "2\n",
            "3\n",
            "5\n"
          ]
        }
      ]
    }
  ],
  "metadata": {
    "kernelspec": {
      "display_name": "Python 3 (ipykernel)",
      "language": "python",
      "name": "python3"
    },
    "language_info": {
      "codemirror_mode": {
        "name": "ipython",
        "version": 3
      },
      "file_extension": ".py",
      "mimetype": "text/x-python",
      "name": "python",
      "nbconvert_exporter": "python",
      "pygments_lexer": "ipython3",
      "version": "3.9.12"
    },
    "colab": {
      "provenance": []
    }
  },
  "nbformat": 4,
  "nbformat_minor": 0
}