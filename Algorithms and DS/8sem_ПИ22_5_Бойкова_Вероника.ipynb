{
  "cells": [
    {
      "cell_type": "code",
      "source": [
        "def tolst(len, fill):\n",
        "    def decorator(func):\n",
        "        def wrapper(*args, **kwargs):\n",
        "            result = func(*args, **kwargs)\n",
        "            if len <= 0:\n",
        "                return []\n",
        "            if len <= len(result):\n",
        "                return result[:len]\n",
        "            else:\n",
        "                return result + [fill] * (len - len(result))\n",
        "        return wrapper\n",
        "    return decorator\n",
        "\n",
        "@tolst(5, 0)\n",
        "def test_func():\n",
        "    return [1, 2, 3]\n",
        "\n",
        "print(test_func()) "
      ],
      "metadata": {
        "id": "BptPze4pXsaz"
      },
      "execution_count": null,
      "outputs": []
    },
    {
      "cell_type": "code",
      "source": [
        "from functools import reduce\n",
        "\n",
        "power = lambda x: 5 ** x\n",
        "exponents = range(11)\n",
        "\n",
        "result = reduce(lambda acc, x: acc + [power(x)], exponents, [])\n",
        "print(result)"
      ],
      "metadata": {
        "colab": {
          "base_uri": "https://localhost:8080/"
        },
        "id": "a1UWZX69XsVM",
        "outputId": "96bff15d-65b1-4d94-c10e-8ba12df58927"
      },
      "execution_count": null,
      "outputs": [
        {
          "output_type": "stream",
          "name": "stdout",
          "text": [
            "[1, 5, 25, 125, 625, 3125, 15625, 78125, 390625, 1953125, 9765625]\n"
          ]
        }
      ]
    },
    {
      "cell_type": "code",
      "source": [
        "from functools import reduce\n",
        "\n",
        "exponents = range(11)\n",
        "x = 5\n",
        "powers = reduce(lambda acc, x: acc + [acc[-1] * 5], exponents, [1])\n",
        "\n",
        "even_powers = filter(lambda x: x % 2 == 0, powers)\n",
        "\n",
        "result = reduce(lambda acc, x: acc + x, even_powers)\n",
        "\n",
        "print(result)"
      ],
      "metadata": {
        "id": "UmKc5SVWZ2ae"
      },
      "execution_count": null,
      "outputs": []
    },
    {
      "cell_type": "code",
      "source": [
        "numbers = [1, 2, 3, 4, 5]\n",
        "\n",
        "strings = map(str, numbers)\n",
        "\n",
        "result = reduce(lambda acc, x: acc + ' ' + x, strings)\n",
        "\n",
        "print(result)"
      ],
      "metadata": {
        "id": "sErUFJCYZ2c8",
        "colab": {
          "base_uri": "https://localhost:8080/"
        },
        "outputId": "f507fb09-9a20-4041-d8dd-ffe6be171905"
      },
      "execution_count": 11,
      "outputs": [
        {
          "output_type": "stream",
          "name": "stdout",
          "text": [
            "1 2 3 4 5\n"
          ]
        }
      ]
    },
    {
      "cell_type": "code",
      "source": [
        "numbers = range(1, 101)\n",
        "\n",
        "squares = map(lambda x: x**2, numbers)\n",
        "\n",
        "filtered_squares = filter(lambda x: x % 9 != 0, squares)\n",
        "\n",
        "result = reduce(lambda acc, x: acc + x, filtered_squares)\n",
        "\n",
        "print(result) "
      ],
      "metadata": {
        "colab": {
          "base_uri": "https://localhost:8080/"
        },
        "id": "PzeK27NdbjQm",
        "outputId": "e15db973-77ac-4181-a3e3-89ac0d83af34"
      },
      "execution_count": 12,
      "outputs": [
        {
          "output_type": "stream",
          "name": "stdout",
          "text": [
            "225589\n"
          ]
        }
      ]
    },
    {
      "cell_type": "code",
      "source": [
        "result = reduce(lambda acc, x: acc + x, filter(lambda x: x % 9 != 0, map(lambda x: x**2, range(1, 101))))\n",
        "print(result)"
      ],
      "metadata": {
        "colab": {
          "base_uri": "https://localhost:8080/"
        },
        "id": "90cz_HTgbptF",
        "outputId": "390516ac-bead-4173-ac98-cdb9ad4f4e31"
      },
      "execution_count": 16,
      "outputs": [
        {
          "output_type": "stream",
          "name": "stdout",
          "text": [
            "225589\n"
          ]
        }
      ]
    },
    {
      "cell_type": "code",
      "source": [
        "lst = [[1, 2, 3], [2, 3, 4], [0, 1 , 1 , 1], [0, 0]]\n",
        "result = list(map(lambda x: x[1], lst))\n",
        "print(result)"
      ],
      "metadata": {
        "colab": {
          "base_uri": "https://localhost:8080/"
        },
        "id": "2QnKLsjzcKtD",
        "outputId": "b2205c2a-52da-49c9-95ed-990421ca4397"
      },
      "execution_count": 18,
      "outputs": [
        {
          "output_type": "stream",
          "name": "stdout",
          "text": [
            "[2, 3, 1, 0]\n"
          ]
        }
      ]
    },
    {
      "cell_type": "code",
      "source": [
        "lst = [[1, 2, 3], [2, 3, 4], [0, 1 , 1 , 1], [0, 0]]\n",
        "result = [x[1] for x in lst]\n",
        "print(result)"
      ],
      "metadata": {
        "colab": {
          "base_uri": "https://localhost:8080/"
        },
        "id": "0iypk1HKchCH",
        "outputId": "d9ddfdb5-143c-4341-a177-a8cf027e2dd6"
      },
      "execution_count": 19,
      "outputs": [
        {
          "output_type": "stream",
          "name": "stdout",
          "text": [
            "[2, 3, 1, 0]\n"
          ]
        }
      ]
    },
    {
      "cell_type": "code",
      "source": [
        "from itertools import groupby\n",
        "\n",
        "lst = [1, 2, 3, 4, 4, 4, 5, 6, 6, 7, 6, 1, 1]\n",
        "result = list(map(lambda x: x[0], groupby(lst)))\n",
        "print(result)"
      ],
      "metadata": {
        "colab": {
          "base_uri": "https://localhost:8080/"
        },
        "id": "g1vZDzFdcr07",
        "outputId": "70765f76-31bd-4e72-96f5-1a5db67654b2"
      },
      "execution_count": 20,
      "outputs": [
        {
          "output_type": "stream",
          "name": "stdout",
          "text": [
            "[1, 2, 3, 4, 5, 6, 7, 6, 1]\n"
          ]
        }
      ]
    },
    {
      "cell_type": "code",
      "source": [
        "def flip(func):\n",
        "    def wrapper(*args):\n",
        "        return func(*reversed(args))\n",
        "    return wrapper\n",
        "@flip\n",
        "def sumnumbers(start, end):\n",
        "    result = 0\n",
        "    for i in range(start, end+1):\n",
        "        if i % 2 == 0:\n",
        "            result += i\n",
        "    return result\n",
        "\n",
        "print(sumnumbers(2, 2000000))"
      ],
      "metadata": {
        "id": "2Yn8Y4DpdgeT"
      },
      "execution_count": null,
      "outputs": []
    },
    {
      "cell_type": "code",
      "source": [
        "def generate_sequence(start, end, step, repeat, num_elements):\n",
        "    sequence = []\n",
        "    for i in range(num_elements):\n",
        "        for j in range(repeat):\n",
        "            sequence.append(start)\n",
        "            start += step\n",
        "        if start > end:\n",
        "            break\n",
        "    return sequence\n",
        "\n",
        "sequence = generate_sequence(3, 20, 3, 20, 5)\n",
        "print(sequence) \n",
        "\n",
        "sequence = generate_sequence(4, 9, 5, 10, 3)\n",
        "print(sequence)"
      ],
      "metadata": {
        "colab": {
          "base_uri": "https://localhost:8080/"
        },
        "id": "YGcgQShzeQmc",
        "outputId": "a2fab51f-d020-4187-c17b-c08135f89242"
      },
      "execution_count": 25,
      "outputs": [
        {
          "output_type": "stream",
          "name": "stdout",
          "text": [
            "[3, 6, 9, 12, 15, 18, 21, 24, 27, 30, 33, 36, 39, 42, 45, 48, 51, 54, 57, 60]\n",
            "[4, 9, 14, 19, 24, 29, 34, 39, 44, 49]\n"
          ]
        }
      ]
    },
    {
      "cell_type": "code",
      "source": [
        "def fibonaccigenerator():\n",
        "    a, b = 0, 1\n",
        "    while True:\n",
        "        yield a\n",
        "        a, b = b, a + b\n",
        "\n",
        "fibonacci = fibonaccigenerator()\n",
        "for i in range(10):\n",
        "    print(next(fibonacci))"
      ],
      "metadata": {
        "colab": {
          "base_uri": "https://localhost:8080/"
        },
        "id": "tdlvUwq1eoP8",
        "outputId": "64b83a17-fa67-4fa6-cccf-2645b3d6c55e"
      },
      "execution_count": 26,
      "outputs": [
        {
          "output_type": "stream",
          "name": "stdout",
          "text": [
            "0\n",
            "1\n",
            "1\n",
            "2\n",
            "3\n",
            "5\n",
            "8\n",
            "13\n",
            "21\n",
            "34\n"
          ]
        }
      ]
    },
    {
      "cell_type": "code",
      "source": [
        "def fibonacci_generator():\n",
        "    def recursive_fibonacci(a, b):\n",
        "        yield a\n",
        "        yield from recursive_fibonacci(b, a + b)\n",
        "    yield from recursive_fibonacci(0, 1)\n",
        "\n",
        "fibonacci = fibonacci_generator()\n",
        "for i in range(10):\n",
        "    print(next(fibonacci)) "
      ],
      "metadata": {
        "colab": {
          "base_uri": "https://localhost:8080/"
        },
        "id": "uwkDJuLGe4jL",
        "outputId": "9a33c104-f093-4cd5-b27c-6741d87c7b6c"
      },
      "execution_count": 27,
      "outputs": [
        {
          "output_type": "stream",
          "name": "stdout",
          "text": [
            "0\n",
            "1\n",
            "1\n",
            "2\n",
            "3\n",
            "5\n",
            "8\n",
            "13\n",
            "21\n",
            "34\n"
          ]
        }
      ]
    }
  ],
  "metadata": {
    "kernelspec": {
      "display_name": "Python 3 (ipykernel)",
      "language": "python",
      "name": "python3"
    },
    "language_info": {
      "codemirror_mode": {
        "name": "ipython",
        "version": 3
      },
      "file_extension": ".py",
      "mimetype": "text/x-python",
      "name": "python",
      "nbconvert_exporter": "python",
      "pygments_lexer": "ipython3",
      "version": "3.9.12"
    },
    "colab": {
      "provenance": []
    }
  },
  "nbformat": 4,
  "nbformat_minor": 0
}