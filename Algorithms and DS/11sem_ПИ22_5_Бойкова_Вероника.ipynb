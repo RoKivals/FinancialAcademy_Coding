{
  "cells": [
    {
      "cell_type": "code",
      "source": [
        "def binary_search(arr, x):\n",
        "    low = 0\n",
        "    high = len(arr) - 1\n",
        "    mid = 0\n",
        " \n",
        "    while low <= high:\n",
        " \n",
        "        mid = (high + low) // 2\n",
        " \n",
        "        if arr[mid] < x:\n",
        "            low = mid + 1\n",
        " \n",
        "        elif arr[mid] > x:\n",
        "            high = mid - 1\n",
        " \n",
        "        else:\n",
        "            return mid\n",
        " \n",
        "    return -1\n",
        " \n",
        " \n",
        "arr = [2, 3, 4, 10, 40]\n",
        "x = 10\n",
        " \n",
        "result = binary_search(arr, x)\n",
        " \n",
        "if result != -1:\n",
        "    print(\"Элемент под индексом\", str(result))\n",
        "else:\n",
        "    print(\"Элемент не найден\")"
      ],
      "metadata": {
        "colab": {
          "base_uri": "https://localhost:8080/"
        },
        "id": "egO4d2xqe7Ui",
        "outputId": "6797817d-152e-4f02-e102-ed6649ad1c00"
      },
      "execution_count": 2,
      "outputs": [
        {
          "output_type": "stream",
          "name": "stdout",
          "text": [
            "Элемент под индексом 3\n"
          ]
        }
      ]
    }
  ],
  "metadata": {
    "kernelspec": {
      "display_name": "Python 3 (ipykernel)",
      "language": "python",
      "name": "python3"
    },
    "language_info": {
      "codemirror_mode": {
        "name": "ipython",
        "version": 3
      },
      "file_extension": ".py",
      "mimetype": "text/x-python",
      "name": "python",
      "nbconvert_exporter": "python",
      "pygments_lexer": "ipython3",
      "version": "3.9.12"
    },
    "colab": {
      "provenance": []
    }
  },
  "nbformat": 4,
  "nbformat_minor": 0
}